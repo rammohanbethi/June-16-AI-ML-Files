{
 "cells": [
  {
   "cell_type": "markdown",
   "metadata": {
    "id": "kRO9n1MJVlHv"
   },
   "source": [
    "LSTM that predicts upwards and downwards trend of google stockprice \n",
    "Many layers with dropout regularisation to prevent overfitting"
   ]
  },
  {
   "cell_type": "markdown",
   "metadata": {
    "id": "UCsb2gWesFOS"
   },
   "source": [
    "Part 1 - Data Preprocessing"
   ]
  },
  {
   "cell_type": "code",
   "execution_count": 1,
   "metadata": {
    "id": "UTEkX8bcqioW"
   },
   "outputs": [],
   "source": [
    "# Importing the libraries\n",
    "import numpy as np #allow to make arrays\n",
    "import matplotlib.pyplot as plt #visualize results on charts \n",
    "import pandas as pd #import dataset and manage easily"
   ]
  },
  {
   "cell_type": "code",
   "execution_count": 2,
   "metadata": {
    "id": "21jugdesW5-7"
   },
   "outputs": [],
   "source": [
    "# Importing the training set - only importing training set, test set later  on \n",
    "#rnn has no idea of the test set's data, then after training is done, test set will eb important\n",
    "dataset_train = pd.read_csv('Google_Stock_Price_Train.csv')\n",
    "\n",
    "#need to make into numpy arrays because only nump arrays can be input values in keras\n",
    "training_set = dataset_train.iloc[:, 1:2].values \n",
    "\n",
    "#getting everything from the columns (.values makes the numpy array)"
   ]
  },
  {
   "cell_type": "code",
   "execution_count": 3,
   "metadata": {},
   "outputs": [
    {
     "data": {
      "text/plain": [
       "Text(0, 0.5, 'High')"
      ]
     },
     "execution_count": 3,
     "metadata": {},
     "output_type": "execute_result"
    },
    {
     "data": {
      "image/png": "[encoded data removed]",
      "text/plain": [
       "<Figure size 576x288 with 1 Axes>"
      ]
     },
     "metadata": {
      "needs_background": "light"
     },
     "output_type": "display_data"
    }
   ],
   "source": [
    "plt.figure(figsize=(8,4))\n",
    "plt.plot(dataset_train['High'])\n",
    "plt.title(\"Google Stock Prices\")\n",
    "plt.xlabel('Time')\n",
    "plt.ylabel('High')"
   ]
  },
  {
   "cell_type": "code",
   "execution_count": 4,
   "metadata": {
    "id": "pZi462V1qsPK"
   },
   "outputs": [],
   "source": [
    "# Feature Scaling\n",
    "#2 ways: take obs- min ofstock prices/max of stock prices- min of stock prices\n",
    "#using normalization instead of standardisation- look at meaning\n",
    "from sklearn.preprocessing import MinMaxScaler\n",
    "sc = MinMaxScaler(feature_range = (0, 1))\n",
    "training_set_scaled = sc.fit_transform(training_set) #fit (gets min and max on data to apply formula) tranform(compute scale stock prices to each formula)"
   ]
  },
  {
   "cell_type": "code",
   "execution_count": 5,
   "metadata": {},
   "outputs": [
    {
     "data": {
      "text/plain": [
       "array([[0.08581368],\n",
       "       [0.09701243],\n",
       "       [0.09433366],\n",
       "       ...,\n",
       "       [0.95725128],\n",
       "       [0.93796041],\n",
       "       [0.93688146]])"
      ]
     },
     "execution_count": 5,
     "metadata": {},
     "output_type": "execute_result"
    }
   ],
   "source": [
    "training_set_scaled"
   ]
  },
  {
   "cell_type": "code",
   "execution_count": 6,
   "metadata": {
    "id": "9C4BE-F1sLpZ"
   },
   "outputs": [],
   "source": [
    "# Creating a data structure with 60 timesteps and 1 output\n",
    "#60 times steps- at each time t and look at 60 previous time steps, then make new prediction \n",
    "# 1 time step leads to overfitting, 20 is still too low\n",
    "#60 previous financial days- in 3 months \n",
    "X_train = []\n",
    "y_train = []\n",
    "for i in range(60, 1258): # upper bound is number of values \n",
    "    X_train.append(training_set_scaled[i-60:i, 0]) #takes 60 previous stock prices from 60 past stock prices\n",
    "    y_train.append(training_set_scaled[i, 0]) #contains stock price learned to predict \n",
    "X_train, y_train = np.array(X_train), np.array(y_train) # make into numpy arrays \n",
    "#Need to add dimension to because not only prescition with one stock price but other indicators (like other columns in dataset  or other stocks that may affect this one )"
   ]
  },
  {
   "cell_type": "code",
   "execution_count": 7,
   "metadata": {
    "id": "k_fnQGmSvfTu"
   },
   "outputs": [],
   "source": [
    "# Reshaping- add dimension in numpy array \n",
    "X_train = np.reshape(X_train, (X_train.shape[0], X_train.shape[1], 1)) #adds dimension in numpy array\n",
    "#currently only have one indicator, with new dimension will have more indicators, be compatible for \"input shape\" of RNN\n",
    "# format according to keras documentation \n"
   ]
  },
  {
   "cell_type": "markdown",
   "metadata": {
    "id": "j3EQlGCOvhzE"
   },
   "source": [
    "Part 2 - Building the RNN \n",
    "stacked lstm with dropout regularization to prevent overfitting"
   ]
  },
  {
   "cell_type": "code",
   "execution_count": 8,
   "metadata": {
    "id": "4trYuBUXvuB5"
   },
   "outputs": [],
   "source": [
    "# Importing the Keras libraries and packages\n",
    "from tensorflow.keras.models import Sequential\n",
    "from tensorflow.keras.layers import Dense\n",
    "from tensorflow.keras.layers import LSTM\n",
    "from tensorflow.keras.layers import Dropout"
   ]
  },
  {
   "cell_type": "code",
   "execution_count": 9,
   "metadata": {
    "id": "Oy4m0z1svv4N"
   },
   "outputs": [],
   "source": [
    "# Initialising the RNN\n",
    "regressor = Sequential() #reps sequence of layers, predicting continous values (so it is a regression)"
   ]
  },
  {
   "cell_type": "code",
   "execution_count": 10,
   "metadata": {
    "id": "fWQQNeG_vwXV"
   },
   "outputs": [],
   "source": [
    "# Adding the first LSTM layer and some Dropout regularisation\n",
    "#dropout to prevent overfitting\n",
    "regressor.add(LSTM(units = 50, return_sequences = True, input_shape = (X_train.shape[1], 1)))#regressor- object of sequential class, can add layers to networ.\n",
    "#use lstm class and create object of lstm class- 3 args\n",
    "#num of units, return sequences- set to true because is stacked lstms, and shape\n",
    "#units- neurons in first layer. 50 in layers for high dimensionality, can capture upward and downward\n",
    "regressor.add(Dropout(0.2))\n",
    "# takes arg of dropout late- num of neurons want to drop. dropping 20% of neurons to be ignored during trianingn for each iteratin. 10 neurons will be dropped out"
   ]
  },
  {
   "cell_type": "code",
   "execution_count": 11,
   "metadata": {
    "id": "xMTvkPLtvz4r"
   },
   "outputs": [],
   "source": [
    "# Adding a second LSTM layer and some Dropout regularisation\n",
    "# total of 4 layers, simply need to copy, only change is input shape so dont need to specify that, automatically recognised through input shape\n",
    "\n",
    "regressor.add(LSTM(units = 50, return_sequences = True)) \n",
    "\n",
    "regressor.add(Dropout(0.2))"
   ]
  },
  {
   "cell_type": "code",
   "execution_count": 12,
   "metadata": {
    "id": "DwZjs53zv0K1"
   },
   "outputs": [],
   "source": [
    "# Adding a third LSTM layer and some Dropout regularisation\n",
    "# same as second layer \n",
    "regressor.add(LSTM(units = 50, return_sequences = True))\n",
    "regressor.add(Dropout(0.2))"
   ]
  },
  {
   "cell_type": "code",
   "execution_count": 13,
   "metadata": {
    "id": "TqAm5r3_v9b-"
   },
   "outputs": [],
   "source": [
    "# Adding a fourth LSTM layer and some Dropout regularisation\n",
    "# almost same, but return sequence is false because it is the last lstm layer (so it is removed becasue default is false)\n",
    "regressor.add(LSTM(units = 50))\n",
    "regressor.add(Dropout(0.2))"
   ]
  },
  {
   "cell_type": "code",
   "execution_count": 14,
   "metadata": {
    "id": "GyBA3V_WwAP5"
   },
   "outputs": [],
   "source": [
    "# Adding the output layer\n",
    "#add fully connected layer through dense class- dimesion/units/neurons is 1\n",
    "regressor.add(Dense(units = 1))"
   ]
  },
  {
   "cell_type": "code",
   "execution_count": 15,
   "metadata": {
    "id": "F_GkymP6wAbZ"
   },
   "outputs": [],
   "source": [
    "# Compiling the RNN\n",
    "#regressior because predicting continuous value, \n",
    "regressor.compile(optimizer = 'adam', loss = 'mean_squared_error')"
   ]
  },
  {
   "cell_type": "code",
   "execution_count": 16,
   "metadata": {
    "colab": {
     "base_uri": "https://localhost:8080/"
    },
    "id": "s__QxkRNwHRO",
    "outputId": "b75a6db5-5244-48d7-d683-0c5d9589c29b"
   },
   "outputs": [
    {
     "name": "stdout",
     "output_type": "stream",
     "text": [
      "Epoch 1/50\n",
      "38/38 [==============================] - 20s 136ms/step - loss: 0.0926\n",
      "Epoch 2/50\n",
      "38/38 [==============================] - 5s 139ms/step - loss: 0.0071\n",
      "Epoch 3/50\n",
      "38/38 [==============================] - 6s 151ms/step - loss: 0.0055\n",
      "Epoch 4/50\n",
      "38/38 [==============================] - 6s 155ms/step - loss: 0.0051\n",
      "Epoch 5/50\n",
      "38/38 [==============================] - 6s 154ms/step - loss: 0.0051\n",
      "Epoch 6/50\n",
      "38/38 [==============================] - 6s 145ms/step - loss: 0.0048\n",
      "Epoch 7/50\n",
      "38/38 [==============================] - 6s 149ms/step - loss: 0.0054\n",
      "Epoch 8/50\n",
      "38/38 [==============================] - 5s 136ms/step - loss: 0.0047\n",
      "Epoch 9/50\n",
      "38/38 [==============================] - 5s 125ms/step - loss: 0.0053\n",
      "Epoch 10/50\n",
      "38/38 [==============================] - 5s 128ms/step - loss: 0.0043\n",
      "Epoch 11/50\n",
      "38/38 [==============================] - 5s 124ms/step - loss: 0.0040\n",
      "Epoch 12/50\n",
      "38/38 [==============================] - 5s 119ms/step - loss: 0.0045\n",
      "Epoch 13/50\n",
      "38/38 [==============================] - 5s 120ms/step - loss: 0.0036\n",
      "Epoch 14/50\n",
      "38/38 [==============================] - 5s 120ms/step - loss: 0.0040\n",
      "Epoch 15/50\n",
      "38/38 [==============================] - 5s 120ms/step - loss: 0.0041\n",
      "Epoch 16/50\n",
      "38/38 [==============================] - 5s 119ms/step - loss: 0.0033\n",
      "Epoch 17/50\n",
      "38/38 [==============================] - 5s 120ms/step - loss: 0.0038\n",
      "Epoch 18/50\n",
      "38/38 [==============================] - 5s 119ms/step - loss: 0.0038\n",
      "Epoch 19/50\n",
      "38/38 [==============================] - 5s 123ms/step - loss: 0.0034\n",
      "Epoch 20/50\n",
      "38/38 [==============================] - 5s 121ms/step - loss: 0.0040\n",
      "Epoch 21/50\n",
      "38/38 [==============================] - 5s 125ms/step - loss: 0.0039\n",
      "Epoch 22/50\n",
      "38/38 [==============================] - 5s 120ms/step - loss: 0.0038\n",
      "Epoch 23/50\n",
      "38/38 [==============================] - 5s 119ms/step - loss: 0.0037\n",
      "Epoch 24/50\n",
      "38/38 [==============================] - 5s 121ms/step - loss: 0.0037\n",
      "Epoch 25/50\n",
      "38/38 [==============================] - 5s 130ms/step - loss: 0.0031\n",
      "Epoch 26/50\n",
      "38/38 [==============================] - 5s 120ms/step - loss: 0.0034\n",
      "Epoch 27/50\n",
      "38/38 [==============================] - 5s 123ms/step - loss: 0.0034\n",
      "Epoch 28/50\n",
      "38/38 [==============================] - 4s 115ms/step - loss: 0.0030\n",
      "Epoch 29/50\n",
      "38/38 [==============================] - 4s 116ms/step - loss: 0.0037\n",
      "Epoch 30/50\n",
      "38/38 [==============================] - 4s 116ms/step - loss: 0.0035\n",
      "Epoch 31/50\n",
      "38/38 [==============================] - 4s 117ms/step - loss: 0.0031\n",
      "Epoch 32/50\n",
      "38/38 [==============================] - 4s 117ms/step - loss: 0.0028\n",
      "Epoch 33/50\n",
      "38/38 [==============================] - 5s 125ms/step - loss: 0.0032\n",
      "Epoch 34/50\n",
      "38/38 [==============================] - 5s 120ms/step - loss: 0.0025\n",
      "Epoch 35/50\n",
      "38/38 [==============================] - 5s 129ms/step - loss: 0.0032\n",
      "Epoch 36/50\n",
      "38/38 [==============================] - 5s 124ms/step - loss: 0.0025\n",
      "Epoch 37/50\n",
      "38/38 [==============================] - 5s 120ms/step - loss: 0.0029\n",
      "Epoch 38/50\n",
      "38/38 [==============================] - 5s 120ms/step - loss: 0.0029\n",
      "Epoch 39/50\n",
      "38/38 [==============================] - 4s 115ms/step - loss: 0.0026\n",
      "Epoch 40/50\n",
      "38/38 [==============================] - 4s 118ms/step - loss: 0.0024\n",
      "Epoch 41/50\n",
      "38/38 [==============================] - 5s 124ms/step - loss: 0.0025\n",
      "Epoch 42/50\n",
      "38/38 [==============================] - 4s 116ms/step - loss: 0.0027\n",
      "Epoch 43/50\n",
      "38/38 [==============================] - 4s 117ms/step - loss: 0.0026\n",
      "Epoch 44/50\n",
      "38/38 [==============================] - 4s 116ms/step - loss: 0.0027\n",
      "Epoch 45/50\n",
      "38/38 [==============================] - 5s 121ms/step - loss: 0.0030\n",
      "Epoch 46/50\n",
      "38/38 [==============================] - 4s 118ms/step - loss: 0.0025\n",
      "Epoch 47/50\n",
      "38/38 [==============================] - 4s 117ms/step - loss: 0.0026\n",
      "Epoch 48/50\n",
      "38/38 [==============================] - 4s 115ms/step - loss: 0.0029\n",
      "Epoch 49/50\n",
      "38/38 [==============================] - 4s 116ms/step - loss: 0.0024\n",
      "Epoch 50/50\n",
      "38/38 [==============================] - 4s 115ms/step - loss: 0.0023\n"
     ]
    },
    {
     "data": {
      "text/plain": [
       "<tensorflow.python.keras.callbacks.History at 0x260e8465f10>"
      ]
     },
     "execution_count": 16,
     "metadata": {},
     "output_type": "execute_result"
    }
   ],
   "source": [
    "# Fitting the RNN to the Training set\n",
    "#have not made connection to training set, training will take place\n",
    "regressor.fit(X_train, y_train, epochs = 50, batch_size = 32) # CHANGE BACK TO 100 IF NOT WORK\n",
    "#100 gives good convergence\n",
    "# trained on certain batch sizes,"
   ]
  },
  {
   "cell_type": "markdown",
   "metadata": {
    "id": "GHac1P0e5U4G"
   },
   "source": [
    "Part 3 - Making the predictions and visualising the results"
   ]
  },
  {
   "cell_type": "code",
   "execution_count": 17,
   "metadata": {
    "id": "9A6R2mXldQk9"
   },
   "outputs": [],
   "source": [
    "# Getting the real stock price of 2018\n",
    "dataset_test = pd.read_csv('Google_Stock_Price_Test.csv')\n",
    "real_stock_price = dataset_test.iloc[:, 1:2].values"
   ]
  },
  {
   "cell_type": "code",
   "execution_count": 18,
   "metadata": {
    "id": "419ZQNSFwHf5"
   },
   "outputs": [],
   "source": [
    "# Getting the predicted stock price of 2018\n",
    "dataset_total = pd.concat((dataset_train['Open'], dataset_test['Open']), axis = 0)\n",
    "inputs = dataset_total[len(dataset_total) - len(dataset_test) - 60:].values #getting input of each previous financial days\n",
    "inputs = inputs.reshape(-1,1)\n",
    "inputs = sc.transform(inputs)"
   ]
  },
  {
   "cell_type": "code",
   "execution_count": 19,
   "metadata": {
    "colab": {
     "base_uri": "https://localhost:8080/"
    },
    "id": "-4q3a38ChceB",
    "outputId": "d34e1ac2-2d80-41eb-8242-cf9c2ce5080f"
   },
   "outputs": [
    {
     "data": {
      "text/plain": [
       "(80, 1)"
      ]
     },
     "execution_count": 19,
     "metadata": {},
     "output_type": "execute_result"
    }
   ],
   "source": [
    "inputs.shape"
   ]
  },
  {
   "cell_type": "code",
   "execution_count": 20,
   "metadata": {
    "id": "9T0X0QY4hbAc"
   },
   "outputs": [],
   "source": [
    "X_test = []\n",
    "for i in range(60, 80):\n",
    "    X_test.append(inputs[i-60:i, 0])\n",
    "X_test = np.array(X_test)\n",
    "X_test = np.reshape(X_test, (X_test.shape[0], X_test.shape[1], 1))\n",
    "predicted_stock_price = regressor.predict(X_test)\n",
    "predicted_stock_price = sc.inverse_transform(predicted_stock_price)"
   ]
  },
  {
   "cell_type": "code",
   "execution_count": 21,
   "metadata": {
    "colab": {
     "base_uri": "https://localhost:8080/",
     "height": 295
    },
    "id": "skhdvmCywHrr",
    "outputId": "21179f0a-e2b1-45da-ba72-350afbc575e5"
   },
   "outputs": [
    {
     "data": {
      "image/png": "[encoded data removed]",
      "text/plain": [
       "<Figure size 432x288 with 1 Axes>"
      ]
     },
     "metadata": {
      "needs_background": "light"
     },
     "output_type": "display_data"
    }
   ],
   "source": [
    "# Visualising the results\n",
    "plt.plot(real_stock_price, color = 'red', label = 'Real Google Stock Price')\n",
    "plt.plot(predicted_stock_price, color = 'blue', label = 'Predicted Google Stock Price')\n",
    "plt.title('Google Stock Price Prediction')\n",
    "plt.xlabel('Time')\n",
    "plt.ylabel('Google Stock Price')\n",
    "plt.legend()\n",
    "plt.show()"
   ]
  },
  {
   "cell_type": "code",
   "execution_count": null,
   "metadata": {
    "id": "HY2ldyDrhjpx"
   },
   "outputs": [],
   "source": []
  }
 ],
 "metadata": {
  "accelerator": "GPU",
  "colab": {
   "collapsed_sections": [],
   "name": "Google Stock Price Prediction RNN",
   "provenance": []
  },
  "kernelspec": {
   "display_name": "Python 3",
   "language": "python",
   "name": "python3"
  },
  "language_info": {
   "codemirror_mode": {
    "name": "ipython",
    "version": 3
   },
   "file_extension": ".py",
   "mimetype": "text/x-python",
   "name": "python",
   "nbconvert_exporter": "python",
   "pygments_lexer": "ipython3",
   "version": "3.8.5"
  }
 },
 "nbformat": 4,
 "nbformat_minor": 1
}

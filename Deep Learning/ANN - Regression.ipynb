{
 "cells": [
  {
   "cell_type": "code",
   "execution_count": 1,
   "metadata": {},
   "outputs": [],
   "source": [
    "import numpy as np\n",
    "import matplotlib.pyplot as plt\n",
    "import pandas as pd"
   ]
  },
  {
   "cell_type": "code",
   "execution_count": 2,
   "metadata": {},
   "outputs": [],
   "source": [
    "#read the dataset\n",
    "dataset=pd.read_csv('50_Startups.csv')"
   ]
  },
  {
   "cell_type": "code",
   "execution_count": 3,
   "metadata": {
    "scrolled": false
   },
   "outputs": [
    {
     "data": {
      "text/html": [
       "<div>\n",
       "<style scoped>\n",
       "    .dataframe tbody tr th:only-of-type {\n",
       "        vertical-align: middle;\n",
       "    }\n",
       "\n",
       "    .dataframe tbody tr th {\n",
       "        vertical-align: top;\n",
       "    }\n",
       "\n",
       "    .dataframe thead th {\n",
       "        text-align: right;\n",
       "    }\n",
       "</style>\n",
       "<table border=\"1\" class=\"dataframe\">\n",
       "  <thead>\n",
       "    <tr style=\"text-align: right;\">\n",
       "      <th></th>\n",
       "      <th>R&amp;D Spend</th>\n",
       "      <th>Administration</th>\n",
       "      <th>Marketing Spend</th>\n",
       "      <th>State</th>\n",
       "      <th>Profit</th>\n",
       "    </tr>\n",
       "  </thead>\n",
       "  <tbody>\n",
       "    <tr>\n",
       "      <th>0</th>\n",
       "      <td>165349.20</td>\n",
       "      <td>136897.80</td>\n",
       "      <td>471784.10</td>\n",
       "      <td>New York</td>\n",
       "      <td>192261.83</td>\n",
       "    </tr>\n",
       "    <tr>\n",
       "      <th>1</th>\n",
       "      <td>162597.70</td>\n",
       "      <td>151377.59</td>\n",
       "      <td>443898.53</td>\n",
       "      <td>California</td>\n",
       "      <td>191792.06</td>\n",
       "    </tr>\n",
       "    <tr>\n",
       "      <th>2</th>\n",
       "      <td>153441.51</td>\n",
       "      <td>101145.55</td>\n",
       "      <td>407934.54</td>\n",
       "      <td>Florida</td>\n",
       "      <td>191050.39</td>\n",
       "    </tr>\n",
       "    <tr>\n",
       "      <th>3</th>\n",
       "      <td>144372.41</td>\n",
       "      <td>118671.85</td>\n",
       "      <td>383199.62</td>\n",
       "      <td>New York</td>\n",
       "      <td>182901.99</td>\n",
       "    </tr>\n",
       "    <tr>\n",
       "      <th>4</th>\n",
       "      <td>142107.34</td>\n",
       "      <td>91391.77</td>\n",
       "      <td>366168.42</td>\n",
       "      <td>Florida</td>\n",
       "      <td>166187.94</td>\n",
       "    </tr>\n",
       "    <tr>\n",
       "      <th>5</th>\n",
       "      <td>131876.90</td>\n",
       "      <td>99814.71</td>\n",
       "      <td>362861.36</td>\n",
       "      <td>New York</td>\n",
       "      <td>156991.12</td>\n",
       "    </tr>\n",
       "    <tr>\n",
       "      <th>6</th>\n",
       "      <td>134615.46</td>\n",
       "      <td>147198.87</td>\n",
       "      <td>127716.82</td>\n",
       "      <td>California</td>\n",
       "      <td>156122.51</td>\n",
       "    </tr>\n",
       "    <tr>\n",
       "      <th>7</th>\n",
       "      <td>130298.13</td>\n",
       "      <td>145530.06</td>\n",
       "      <td>323876.68</td>\n",
       "      <td>Florida</td>\n",
       "      <td>155752.60</td>\n",
       "    </tr>\n",
       "    <tr>\n",
       "      <th>8</th>\n",
       "      <td>120542.52</td>\n",
       "      <td>148718.95</td>\n",
       "      <td>311613.29</td>\n",
       "      <td>New York</td>\n",
       "      <td>152211.77</td>\n",
       "    </tr>\n",
       "    <tr>\n",
       "      <th>9</th>\n",
       "      <td>123334.88</td>\n",
       "      <td>108679.17</td>\n",
       "      <td>304981.62</td>\n",
       "      <td>California</td>\n",
       "      <td>149759.96</td>\n",
       "    </tr>\n",
       "    <tr>\n",
       "      <th>10</th>\n",
       "      <td>101913.08</td>\n",
       "      <td>110594.11</td>\n",
       "      <td>229160.95</td>\n",
       "      <td>Florida</td>\n",
       "      <td>146121.95</td>\n",
       "    </tr>\n",
       "    <tr>\n",
       "      <th>11</th>\n",
       "      <td>100671.96</td>\n",
       "      <td>91790.61</td>\n",
       "      <td>249744.55</td>\n",
       "      <td>California</td>\n",
       "      <td>144259.40</td>\n",
       "    </tr>\n",
       "    <tr>\n",
       "      <th>12</th>\n",
       "      <td>93863.75</td>\n",
       "      <td>127320.38</td>\n",
       "      <td>249839.44</td>\n",
       "      <td>Florida</td>\n",
       "      <td>141585.52</td>\n",
       "    </tr>\n",
       "    <tr>\n",
       "      <th>13</th>\n",
       "      <td>91992.39</td>\n",
       "      <td>135495.07</td>\n",
       "      <td>252664.93</td>\n",
       "      <td>California</td>\n",
       "      <td>134307.35</td>\n",
       "    </tr>\n",
       "    <tr>\n",
       "      <th>14</th>\n",
       "      <td>119943.24</td>\n",
       "      <td>156547.42</td>\n",
       "      <td>256512.92</td>\n",
       "      <td>Florida</td>\n",
       "      <td>132602.65</td>\n",
       "    </tr>\n",
       "    <tr>\n",
       "      <th>15</th>\n",
       "      <td>114523.61</td>\n",
       "      <td>122616.84</td>\n",
       "      <td>261776.23</td>\n",
       "      <td>New York</td>\n",
       "      <td>129917.04</td>\n",
       "    </tr>\n",
       "    <tr>\n",
       "      <th>16</th>\n",
       "      <td>78013.11</td>\n",
       "      <td>121597.55</td>\n",
       "      <td>264346.06</td>\n",
       "      <td>California</td>\n",
       "      <td>126992.93</td>\n",
       "    </tr>\n",
       "    <tr>\n",
       "      <th>17</th>\n",
       "      <td>94657.16</td>\n",
       "      <td>145077.58</td>\n",
       "      <td>282574.31</td>\n",
       "      <td>New York</td>\n",
       "      <td>125370.37</td>\n",
       "    </tr>\n",
       "    <tr>\n",
       "      <th>18</th>\n",
       "      <td>91749.16</td>\n",
       "      <td>114175.79</td>\n",
       "      <td>294919.57</td>\n",
       "      <td>Florida</td>\n",
       "      <td>124266.90</td>\n",
       "    </tr>\n",
       "    <tr>\n",
       "      <th>19</th>\n",
       "      <td>86419.70</td>\n",
       "      <td>153514.11</td>\n",
       "      <td>0.00</td>\n",
       "      <td>New York</td>\n",
       "      <td>122776.86</td>\n",
       "    </tr>\n",
       "    <tr>\n",
       "      <th>20</th>\n",
       "      <td>76253.86</td>\n",
       "      <td>113867.30</td>\n",
       "      <td>298664.47</td>\n",
       "      <td>California</td>\n",
       "      <td>118474.03</td>\n",
       "    </tr>\n",
       "    <tr>\n",
       "      <th>21</th>\n",
       "      <td>78389.47</td>\n",
       "      <td>153773.43</td>\n",
       "      <td>299737.29</td>\n",
       "      <td>New York</td>\n",
       "      <td>111313.02</td>\n",
       "    </tr>\n",
       "    <tr>\n",
       "      <th>22</th>\n",
       "      <td>73994.56</td>\n",
       "      <td>122782.75</td>\n",
       "      <td>303319.26</td>\n",
       "      <td>Florida</td>\n",
       "      <td>110352.25</td>\n",
       "    </tr>\n",
       "    <tr>\n",
       "      <th>23</th>\n",
       "      <td>67532.53</td>\n",
       "      <td>105751.03</td>\n",
       "      <td>304768.73</td>\n",
       "      <td>Florida</td>\n",
       "      <td>108733.99</td>\n",
       "    </tr>\n",
       "    <tr>\n",
       "      <th>24</th>\n",
       "      <td>77044.01</td>\n",
       "      <td>99281.34</td>\n",
       "      <td>140574.81</td>\n",
       "      <td>New York</td>\n",
       "      <td>108552.04</td>\n",
       "    </tr>\n",
       "    <tr>\n",
       "      <th>25</th>\n",
       "      <td>64664.71</td>\n",
       "      <td>139553.16</td>\n",
       "      <td>137962.62</td>\n",
       "      <td>California</td>\n",
       "      <td>107404.34</td>\n",
       "    </tr>\n",
       "    <tr>\n",
       "      <th>26</th>\n",
       "      <td>75328.87</td>\n",
       "      <td>144135.98</td>\n",
       "      <td>134050.07</td>\n",
       "      <td>Florida</td>\n",
       "      <td>105733.54</td>\n",
       "    </tr>\n",
       "    <tr>\n",
       "      <th>27</th>\n",
       "      <td>72107.60</td>\n",
       "      <td>127864.55</td>\n",
       "      <td>353183.81</td>\n",
       "      <td>New York</td>\n",
       "      <td>105008.31</td>\n",
       "    </tr>\n",
       "    <tr>\n",
       "      <th>28</th>\n",
       "      <td>66051.52</td>\n",
       "      <td>182645.56</td>\n",
       "      <td>118148.20</td>\n",
       "      <td>Florida</td>\n",
       "      <td>103282.38</td>\n",
       "    </tr>\n",
       "    <tr>\n",
       "      <th>29</th>\n",
       "      <td>65605.48</td>\n",
       "      <td>153032.06</td>\n",
       "      <td>107138.38</td>\n",
       "      <td>New York</td>\n",
       "      <td>101004.64</td>\n",
       "    </tr>\n",
       "    <tr>\n",
       "      <th>30</th>\n",
       "      <td>61994.48</td>\n",
       "      <td>115641.28</td>\n",
       "      <td>91131.24</td>\n",
       "      <td>Florida</td>\n",
       "      <td>99937.59</td>\n",
       "    </tr>\n",
       "    <tr>\n",
       "      <th>31</th>\n",
       "      <td>61136.38</td>\n",
       "      <td>152701.92</td>\n",
       "      <td>88218.23</td>\n",
       "      <td>New York</td>\n",
       "      <td>97483.56</td>\n",
       "    </tr>\n",
       "    <tr>\n",
       "      <th>32</th>\n",
       "      <td>63408.86</td>\n",
       "      <td>129219.61</td>\n",
       "      <td>46085.25</td>\n",
       "      <td>California</td>\n",
       "      <td>97427.84</td>\n",
       "    </tr>\n",
       "    <tr>\n",
       "      <th>33</th>\n",
       "      <td>55493.95</td>\n",
       "      <td>103057.49</td>\n",
       "      <td>214634.81</td>\n",
       "      <td>Florida</td>\n",
       "      <td>96778.92</td>\n",
       "    </tr>\n",
       "    <tr>\n",
       "      <th>34</th>\n",
       "      <td>46426.07</td>\n",
       "      <td>157693.92</td>\n",
       "      <td>210797.67</td>\n",
       "      <td>California</td>\n",
       "      <td>96712.80</td>\n",
       "    </tr>\n",
       "    <tr>\n",
       "      <th>35</th>\n",
       "      <td>46014.02</td>\n",
       "      <td>85047.44</td>\n",
       "      <td>205517.64</td>\n",
       "      <td>New York</td>\n",
       "      <td>96479.51</td>\n",
       "    </tr>\n",
       "    <tr>\n",
       "      <th>36</th>\n",
       "      <td>28663.76</td>\n",
       "      <td>127056.21</td>\n",
       "      <td>201126.82</td>\n",
       "      <td>Florida</td>\n",
       "      <td>90708.19</td>\n",
       "    </tr>\n",
       "    <tr>\n",
       "      <th>37</th>\n",
       "      <td>44069.95</td>\n",
       "      <td>51283.14</td>\n",
       "      <td>197029.42</td>\n",
       "      <td>California</td>\n",
       "      <td>89949.14</td>\n",
       "    </tr>\n",
       "    <tr>\n",
       "      <th>38</th>\n",
       "      <td>20229.59</td>\n",
       "      <td>65947.93</td>\n",
       "      <td>185265.10</td>\n",
       "      <td>New York</td>\n",
       "      <td>81229.06</td>\n",
       "    </tr>\n",
       "    <tr>\n",
       "      <th>39</th>\n",
       "      <td>38558.51</td>\n",
       "      <td>82982.09</td>\n",
       "      <td>174999.30</td>\n",
       "      <td>California</td>\n",
       "      <td>81005.76</td>\n",
       "    </tr>\n",
       "    <tr>\n",
       "      <th>40</th>\n",
       "      <td>28754.33</td>\n",
       "      <td>118546.05</td>\n",
       "      <td>172795.67</td>\n",
       "      <td>California</td>\n",
       "      <td>78239.91</td>\n",
       "    </tr>\n",
       "    <tr>\n",
       "      <th>41</th>\n",
       "      <td>27892.92</td>\n",
       "      <td>84710.77</td>\n",
       "      <td>164470.71</td>\n",
       "      <td>Florida</td>\n",
       "      <td>77798.83</td>\n",
       "    </tr>\n",
       "    <tr>\n",
       "      <th>42</th>\n",
       "      <td>23640.93</td>\n",
       "      <td>96189.63</td>\n",
       "      <td>148001.11</td>\n",
       "      <td>California</td>\n",
       "      <td>71498.49</td>\n",
       "    </tr>\n",
       "    <tr>\n",
       "      <th>43</th>\n",
       "      <td>15505.73</td>\n",
       "      <td>127382.30</td>\n",
       "      <td>35534.17</td>\n",
       "      <td>New York</td>\n",
       "      <td>69758.98</td>\n",
       "    </tr>\n",
       "    <tr>\n",
       "      <th>44</th>\n",
       "      <td>22177.74</td>\n",
       "      <td>154806.14</td>\n",
       "      <td>28334.72</td>\n",
       "      <td>California</td>\n",
       "      <td>65200.33</td>\n",
       "    </tr>\n",
       "    <tr>\n",
       "      <th>45</th>\n",
       "      <td>1000.23</td>\n",
       "      <td>124153.04</td>\n",
       "      <td>1903.93</td>\n",
       "      <td>New York</td>\n",
       "      <td>64926.08</td>\n",
       "    </tr>\n",
       "    <tr>\n",
       "      <th>46</th>\n",
       "      <td>1315.46</td>\n",
       "      <td>115816.21</td>\n",
       "      <td>297114.46</td>\n",
       "      <td>Florida</td>\n",
       "      <td>49490.75</td>\n",
       "    </tr>\n",
       "    <tr>\n",
       "      <th>47</th>\n",
       "      <td>0.00</td>\n",
       "      <td>135426.92</td>\n",
       "      <td>0.00</td>\n",
       "      <td>California</td>\n",
       "      <td>42559.73</td>\n",
       "    </tr>\n",
       "    <tr>\n",
       "      <th>48</th>\n",
       "      <td>542.05</td>\n",
       "      <td>51743.15</td>\n",
       "      <td>0.00</td>\n",
       "      <td>New York</td>\n",
       "      <td>35673.41</td>\n",
       "    </tr>\n",
       "    <tr>\n",
       "      <th>49</th>\n",
       "      <td>0.00</td>\n",
       "      <td>116983.80</td>\n",
       "      <td>45173.06</td>\n",
       "      <td>California</td>\n",
       "      <td>14681.40</td>\n",
       "    </tr>\n",
       "  </tbody>\n",
       "</table>\n",
       "</div>"
      ],
      "text/plain": [
       "    R&D Spend  Administration  Marketing Spend       State     Profit\n",
       "0   165349.20       136897.80        471784.10    New York  192261.83\n",
       "1   162597.70       151377.59        443898.53  California  191792.06\n",
       "2   153441.51       101145.55        407934.54     Florida  191050.39\n",
       "3   144372.41       118671.85        383199.62    New York  182901.99\n",
       "4   142107.34        91391.77        366168.42     Florida  166187.94\n",
       "5   131876.90        99814.71        362861.36    New York  156991.12\n",
       "6   134615.46       147198.87        127716.82  California  156122.51\n",
       "7   130298.13       145530.06        323876.68     Florida  155752.60\n",
       "8   120542.52       148718.95        311613.29    New York  152211.77\n",
       "9   123334.88       108679.17        304981.62  California  149759.96\n",
       "10  101913.08       110594.11        229160.95     Florida  146121.95\n",
       "11  100671.96        91790.61        249744.55  California  144259.40\n",
       "12   93863.75       127320.38        249839.44     Florida  141585.52\n",
       "13   91992.39       135495.07        252664.93  California  134307.35\n",
       "14  119943.24       156547.42        256512.92     Florida  132602.65\n",
       "15  114523.61       122616.84        261776.23    New York  129917.04\n",
       "16   78013.11       121597.55        264346.06  California  126992.93\n",
       "17   94657.16       145077.58        282574.31    New York  125370.37\n",
       "18   91749.16       114175.79        294919.57     Florida  124266.90\n",
       "19   86419.70       153514.11             0.00    New York  122776.86\n",
       "20   76253.86       113867.30        298664.47  California  118474.03\n",
       "21   78389.47       153773.43        299737.29    New York  111313.02\n",
       "22   73994.56       122782.75        303319.26     Florida  110352.25\n",
       "23   67532.53       105751.03        304768.73     Florida  108733.99\n",
       "24   77044.01        99281.34        140574.81    New York  108552.04\n",
       "25   64664.71       139553.16        137962.62  California  107404.34\n",
       "26   75328.87       144135.98        134050.07     Florida  105733.54\n",
       "27   72107.60       127864.55        353183.81    New York  105008.31\n",
       "28   66051.52       182645.56        118148.20     Florida  103282.38\n",
       "29   65605.48       153032.06        107138.38    New York  101004.64\n",
       "30   61994.48       115641.28         91131.24     Florida   99937.59\n",
       "31   61136.38       152701.92         88218.23    New York   97483.56\n",
       "32   63408.86       129219.61         46085.25  California   97427.84\n",
       "33   55493.95       103057.49        214634.81     Florida   96778.92\n",
       "34   46426.07       157693.92        210797.67  California   96712.80\n",
       "35   46014.02        85047.44        205517.64    New York   96479.51\n",
       "36   28663.76       127056.21        201126.82     Florida   90708.19\n",
       "37   44069.95        51283.14        197029.42  California   89949.14\n",
       "38   20229.59        65947.93        185265.10    New York   81229.06\n",
       "39   38558.51        82982.09        174999.30  California   81005.76\n",
       "40   28754.33       118546.05        172795.67  California   78239.91\n",
       "41   27892.92        84710.77        164470.71     Florida   77798.83\n",
       "42   23640.93        96189.63        148001.11  California   71498.49\n",
       "43   15505.73       127382.30         35534.17    New York   69758.98\n",
       "44   22177.74       154806.14         28334.72  California   65200.33\n",
       "45    1000.23       124153.04          1903.93    New York   64926.08\n",
       "46    1315.46       115816.21        297114.46     Florida   49490.75\n",
       "47       0.00       135426.92             0.00  California   42559.73\n",
       "48     542.05        51743.15             0.00    New York   35673.41\n",
       "49       0.00       116983.80         45173.06  California   14681.40"
      ]
     },
     "execution_count": 3,
     "metadata": {},
     "output_type": "execute_result"
    }
   ],
   "source": [
    "dataset"
   ]
  },
  {
   "cell_type": "code",
   "execution_count": 4,
   "metadata": {},
   "outputs": [
    {
     "data": {
      "text/plain": [
       "pandas.core.frame.DataFrame"
      ]
     },
     "execution_count": 4,
     "metadata": {},
     "output_type": "execute_result"
    }
   ],
   "source": [
    "type(dataset)"
   ]
  },
  {
   "cell_type": "code",
   "execution_count": 5,
   "metadata": {},
   "outputs": [
    {
     "name": "stdout",
     "output_type": "stream",
     "text": [
      "<class 'pandas.core.frame.DataFrame'>\n",
      "RangeIndex: 50 entries, 0 to 49\n",
      "Data columns (total 5 columns):\n",
      " #   Column           Non-Null Count  Dtype  \n",
      "---  ------           --------------  -----  \n",
      " 0   R&D Spend        50 non-null     float64\n",
      " 1   Administration   50 non-null     float64\n",
      " 2   Marketing Spend  50 non-null     float64\n",
      " 3   State            50 non-null     object \n",
      " 4   Profit           50 non-null     float64\n",
      "dtypes: float64(4), object(1)\n",
      "memory usage: 2.1+ KB\n"
     ]
    }
   ],
   "source": [
    "dataset.info()"
   ]
  },
  {
   "cell_type": "code",
   "execution_count": 7,
   "metadata": {},
   "outputs": [
    {
     "data": {
      "text/plain": [
       "array(['New York', 'California', 'Florida'], dtype=object)"
      ]
     },
     "execution_count": 7,
     "metadata": {},
     "output_type": "execute_result"
    }
   ],
   "source": [
    "dataset['State'].unique()\n",
    "#California\n",
    "#Florida\n",
    "#New York"
   ]
  },
  {
   "cell_type": "code",
   "execution_count": 8,
   "metadata": {},
   "outputs": [
    {
     "data": {
      "text/plain": [
       "R&D Spend          False\n",
       "Administration     False\n",
       "Marketing Spend    False\n",
       "State              False\n",
       "Profit             False\n",
       "dtype: bool"
      ]
     },
     "execution_count": 8,
     "metadata": {},
     "output_type": "execute_result"
    }
   ],
   "source": [
    "dataset.isnull().any()"
   ]
  },
  {
   "cell_type": "code",
   "execution_count": 9,
   "metadata": {},
   "outputs": [
    {
     "data": {
      "text/plain": [
       "Text(0, 0.5, 'Profit')"
      ]
     },
     "execution_count": 9,
     "metadata": {},
     "output_type": "execute_result"
    },
    {
     "data": {
      "image/png": "[encoded data removed]",
      "text/plain": [
       "<Figure size 432x288 with 1 Axes>"
      ]
     },
     "metadata": {
      "needs_background": "light"
     },
     "output_type": "display_data"
    }
   ],
   "source": [
    "plt.scatter(dataset['R&D Spend'],dataset['Profit'])\n",
    "plt.xlabel('R&D Spend')\n",
    "plt.ylabel('Profit')"
   ]
  },
  {
   "cell_type": "code",
   "execution_count": 10,
   "metadata": {},
   "outputs": [
    {
     "data": {
      "text/plain": [
       "Text(0, 0.5, 'Profit')"
      ]
     },
     "execution_count": 10,
     "metadata": {},
     "output_type": "execute_result"
    },
    {
     "data": {
      "image/png": "[encoded data removed]",
      "text/plain": [
       "<Figure size 432x288 with 1 Axes>"
      ]
     },
     "metadata": {
      "needs_background": "light"
     },
     "output_type": "display_data"
    }
   ],
   "source": [
    "plt.plot(dataset['Administration'],dataset['Profit'])\n",
    "plt.xlabel('Administration')\n",
    "plt.ylabel('Profit')"
   ]
  },
  {
   "cell_type": "code",
   "execution_count": 11,
   "metadata": {},
   "outputs": [
    {
     "data": {
      "text/plain": [
       "Text(0, 0.5, 'Profit')"
      ]
     },
     "execution_count": 11,
     "metadata": {},
     "output_type": "execute_result"
    },
    {
     "data": {
      "image/png": "[encoded data removed]",
      "text/plain": [
       "<Figure size 432x288 with 1 Axes>"
      ]
     },
     "metadata": {
      "needs_background": "light"
     },
     "output_type": "display_data"
    }
   ],
   "source": [
    "plt.scatter(dataset['Marketing Spend'],dataset['Profit'])\n",
    "plt.xlabel('Marketing Spend')\n",
    "plt.ylabel('Profit')"
   ]
  },
  {
   "cell_type": "code",
   "execution_count": 12,
   "metadata": {},
   "outputs": [],
   "source": [
    "from sklearn.preprocessing import LabelEncoder\n",
    "le=LabelEncoder()"
   ]
  },
  {
   "cell_type": "code",
   "execution_count": 13,
   "metadata": {},
   "outputs": [],
   "source": [
    "dataset['State']=le.fit_transform(dataset['State'])"
   ]
  },
  {
   "cell_type": "code",
   "execution_count": 14,
   "metadata": {},
   "outputs": [
    {
     "data": {
      "text/html": [
       "<div>\n",
       "<style scoped>\n",
       "    .dataframe tbody tr th:only-of-type {\n",
       "        vertical-align: middle;\n",
       "    }\n",
       "\n",
       "    .dataframe tbody tr th {\n",
       "        vertical-align: top;\n",
       "    }\n",
       "\n",
       "    .dataframe thead th {\n",
       "        text-align: right;\n",
       "    }\n",
       "</style>\n",
       "<table border=\"1\" class=\"dataframe\">\n",
       "  <thead>\n",
       "    <tr style=\"text-align: right;\">\n",
       "      <th></th>\n",
       "      <th>R&amp;D Spend</th>\n",
       "      <th>Administration</th>\n",
       "      <th>Marketing Spend</th>\n",
       "      <th>State</th>\n",
       "      <th>Profit</th>\n",
       "    </tr>\n",
       "  </thead>\n",
       "  <tbody>\n",
       "    <tr>\n",
       "      <th>0</th>\n",
       "      <td>165349.20</td>\n",
       "      <td>136897.80</td>\n",
       "      <td>471784.10</td>\n",
       "      <td>2</td>\n",
       "      <td>192261.83</td>\n",
       "    </tr>\n",
       "    <tr>\n",
       "      <th>1</th>\n",
       "      <td>162597.70</td>\n",
       "      <td>151377.59</td>\n",
       "      <td>443898.53</td>\n",
       "      <td>0</td>\n",
       "      <td>191792.06</td>\n",
       "    </tr>\n",
       "    <tr>\n",
       "      <th>2</th>\n",
       "      <td>153441.51</td>\n",
       "      <td>101145.55</td>\n",
       "      <td>407934.54</td>\n",
       "      <td>1</td>\n",
       "      <td>191050.39</td>\n",
       "    </tr>\n",
       "    <tr>\n",
       "      <th>3</th>\n",
       "      <td>144372.41</td>\n",
       "      <td>118671.85</td>\n",
       "      <td>383199.62</td>\n",
       "      <td>2</td>\n",
       "      <td>182901.99</td>\n",
       "    </tr>\n",
       "    <tr>\n",
       "      <th>4</th>\n",
       "      <td>142107.34</td>\n",
       "      <td>91391.77</td>\n",
       "      <td>366168.42</td>\n",
       "      <td>1</td>\n",
       "      <td>166187.94</td>\n",
       "    </tr>\n",
       "  </tbody>\n",
       "</table>\n",
       "</div>"
      ],
      "text/plain": [
       "   R&D Spend  Administration  Marketing Spend  State     Profit\n",
       "0  165349.20       136897.80        471784.10      2  192261.83\n",
       "1  162597.70       151377.59        443898.53      0  191792.06\n",
       "2  153441.51       101145.55        407934.54      1  191050.39\n",
       "3  144372.41       118671.85        383199.62      2  182901.99\n",
       "4  142107.34        91391.77        366168.42      1  166187.94"
      ]
     },
     "execution_count": 14,
     "metadata": {},
     "output_type": "execute_result"
    }
   ],
   "source": [
    "dataset.head()"
   ]
  },
  {
   "cell_type": "markdown",
   "metadata": {},
   "source": [
    "dataset.drop('State',axis=1,inplace=True)"
   ]
  },
  {
   "cell_type": "code",
   "execution_count": 15,
   "metadata": {},
   "outputs": [
    {
     "data": {
      "text/html": [
       "<div>\n",
       "<style scoped>\n",
       "    .dataframe tbody tr th:only-of-type {\n",
       "        vertical-align: middle;\n",
       "    }\n",
       "\n",
       "    .dataframe tbody tr th {\n",
       "        vertical-align: top;\n",
       "    }\n",
       "\n",
       "    .dataframe thead th {\n",
       "        text-align: right;\n",
       "    }\n",
       "</style>\n",
       "<table border=\"1\" class=\"dataframe\">\n",
       "  <thead>\n",
       "    <tr style=\"text-align: right;\">\n",
       "      <th></th>\n",
       "      <th>R&amp;D Spend</th>\n",
       "      <th>Administration</th>\n",
       "      <th>Marketing Spend</th>\n",
       "      <th>State</th>\n",
       "      <th>Profit</th>\n",
       "    </tr>\n",
       "  </thead>\n",
       "  <tbody>\n",
       "    <tr>\n",
       "      <th>0</th>\n",
       "      <td>165349.20</td>\n",
       "      <td>136897.80</td>\n",
       "      <td>471784.10</td>\n",
       "      <td>2</td>\n",
       "      <td>192261.83</td>\n",
       "    </tr>\n",
       "    <tr>\n",
       "      <th>1</th>\n",
       "      <td>162597.70</td>\n",
       "      <td>151377.59</td>\n",
       "      <td>443898.53</td>\n",
       "      <td>0</td>\n",
       "      <td>191792.06</td>\n",
       "    </tr>\n",
       "    <tr>\n",
       "      <th>2</th>\n",
       "      <td>153441.51</td>\n",
       "      <td>101145.55</td>\n",
       "      <td>407934.54</td>\n",
       "      <td>1</td>\n",
       "      <td>191050.39</td>\n",
       "    </tr>\n",
       "    <tr>\n",
       "      <th>3</th>\n",
       "      <td>144372.41</td>\n",
       "      <td>118671.85</td>\n",
       "      <td>383199.62</td>\n",
       "      <td>2</td>\n",
       "      <td>182901.99</td>\n",
       "    </tr>\n",
       "    <tr>\n",
       "      <th>4</th>\n",
       "      <td>142107.34</td>\n",
       "      <td>91391.77</td>\n",
       "      <td>366168.42</td>\n",
       "      <td>1</td>\n",
       "      <td>166187.94</td>\n",
       "    </tr>\n",
       "  </tbody>\n",
       "</table>\n",
       "</div>"
      ],
      "text/plain": [
       "   R&D Spend  Administration  Marketing Spend  State     Profit\n",
       "0  165349.20       136897.80        471784.10      2  192261.83\n",
       "1  162597.70       151377.59        443898.53      0  191792.06\n",
       "2  153441.51       101145.55        407934.54      1  191050.39\n",
       "3  144372.41       118671.85        383199.62      2  182901.99\n",
       "4  142107.34        91391.77        366168.42      1  166187.94"
      ]
     },
     "execution_count": 15,
     "metadata": {},
     "output_type": "execute_result"
    }
   ],
   "source": [
    "dataset.head()"
   ]
  },
  {
   "cell_type": "code",
   "execution_count": 16,
   "metadata": {},
   "outputs": [
    {
     "data": {
      "text/html": [
       "<div>\n",
       "<style scoped>\n",
       "    .dataframe tbody tr th:only-of-type {\n",
       "        vertical-align: middle;\n",
       "    }\n",
       "\n",
       "    .dataframe tbody tr th {\n",
       "        vertical-align: top;\n",
       "    }\n",
       "\n",
       "    .dataframe thead th {\n",
       "        text-align: right;\n",
       "    }\n",
       "</style>\n",
       "<table border=\"1\" class=\"dataframe\">\n",
       "  <thead>\n",
       "    <tr style=\"text-align: right;\">\n",
       "      <th></th>\n",
       "      <th>R&amp;D Spend</th>\n",
       "      <th>Administration</th>\n",
       "      <th>Marketing Spend</th>\n",
       "      <th>State</th>\n",
       "      <th>Profit</th>\n",
       "    </tr>\n",
       "  </thead>\n",
       "  <tbody>\n",
       "    <tr>\n",
       "      <th>R&amp;D Spend</th>\n",
       "      <td>1.000000</td>\n",
       "      <td>0.241955</td>\n",
       "      <td>0.724248</td>\n",
       "      <td>0.104685</td>\n",
       "      <td>0.972900</td>\n",
       "    </tr>\n",
       "    <tr>\n",
       "      <th>Administration</th>\n",
       "      <td>0.241955</td>\n",
       "      <td>1.000000</td>\n",
       "      <td>-0.032154</td>\n",
       "      <td>0.011847</td>\n",
       "      <td>0.200717</td>\n",
       "    </tr>\n",
       "    <tr>\n",
       "      <th>Marketing Spend</th>\n",
       "      <td>0.724248</td>\n",
       "      <td>-0.032154</td>\n",
       "      <td>1.000000</td>\n",
       "      <td>0.077670</td>\n",
       "      <td>0.747766</td>\n",
       "    </tr>\n",
       "    <tr>\n",
       "      <th>State</th>\n",
       "      <td>0.104685</td>\n",
       "      <td>0.011847</td>\n",
       "      <td>0.077670</td>\n",
       "      <td>1.000000</td>\n",
       "      <td>0.101796</td>\n",
       "    </tr>\n",
       "    <tr>\n",
       "      <th>Profit</th>\n",
       "      <td>0.972900</td>\n",
       "      <td>0.200717</td>\n",
       "      <td>0.747766</td>\n",
       "      <td>0.101796</td>\n",
       "      <td>1.000000</td>\n",
       "    </tr>\n",
       "  </tbody>\n",
       "</table>\n",
       "</div>"
      ],
      "text/plain": [
       "                 R&D Spend  Administration  Marketing Spend     State  \\\n",
       "R&D Spend         1.000000        0.241955         0.724248  0.104685   \n",
       "Administration    0.241955        1.000000        -0.032154  0.011847   \n",
       "Marketing Spend   0.724248       -0.032154         1.000000  0.077670   \n",
       "State             0.104685        0.011847         0.077670  1.000000   \n",
       "Profit            0.972900        0.200717         0.747766  0.101796   \n",
       "\n",
       "                   Profit  \n",
       "R&D Spend        0.972900  \n",
       "Administration   0.200717  \n",
       "Marketing Spend  0.747766  \n",
       "State            0.101796  \n",
       "Profit           1.000000  "
      ]
     },
     "execution_count": 16,
     "metadata": {},
     "output_type": "execute_result"
    }
   ],
   "source": [
    "dataset.corr()"
   ]
  },
  {
   "cell_type": "code",
   "execution_count": 17,
   "metadata": {},
   "outputs": [
    {
     "data": {
      "text/plain": [
       "<matplotlib.axes._subplots.AxesSubplot at 0x1bf03101940>"
      ]
     },
     "execution_count": 17,
     "metadata": {},
     "output_type": "execute_result"
    },
    {
     "data": {
      "image/png": "[encoded data removed]",
      "text/plain": [
       "<Figure size 432x288 with 2 Axes>"
      ]
     },
     "metadata": {
      "needs_background": "light"
     },
     "output_type": "display_data"
    }
   ],
   "source": [
    "import seaborn as sns\n",
    "sns.heatmap(dataset.corr(),annot=True,vmin=-1,vmax=1,center=0)"
   ]
  },
  {
   "cell_type": "code",
   "execution_count": 18,
   "metadata": {},
   "outputs": [
    {
     "data": {
      "text/html": [
       "<div>\n",
       "<style scoped>\n",
       "    .dataframe tbody tr th:only-of-type {\n",
       "        vertical-align: middle;\n",
       "    }\n",
       "\n",
       "    .dataframe tbody tr th {\n",
       "        vertical-align: top;\n",
       "    }\n",
       "\n",
       "    .dataframe thead th {\n",
       "        text-align: right;\n",
       "    }\n",
       "</style>\n",
       "<table border=\"1\" class=\"dataframe\">\n",
       "  <thead>\n",
       "    <tr style=\"text-align: right;\">\n",
       "      <th></th>\n",
       "      <th>R&amp;D Spend</th>\n",
       "      <th>Administration</th>\n",
       "      <th>Marketing Spend</th>\n",
       "      <th>State</th>\n",
       "      <th>Profit</th>\n",
       "    </tr>\n",
       "  </thead>\n",
       "  <tbody>\n",
       "    <tr>\n",
       "      <th>0</th>\n",
       "      <td>165349.2</td>\n",
       "      <td>136897.8</td>\n",
       "      <td>471784.1</td>\n",
       "      <td>2</td>\n",
       "      <td>192261.83</td>\n",
       "    </tr>\n",
       "  </tbody>\n",
       "</table>\n",
       "</div>"
      ],
      "text/plain": [
       "   R&D Spend  Administration  Marketing Spend  State     Profit\n",
       "0   165349.2        136897.8         471784.1      2  192261.83"
      ]
     },
     "execution_count": 18,
     "metadata": {},
     "output_type": "execute_result"
    }
   ],
   "source": [
    "dataset.head(1)"
   ]
  },
  {
   "cell_type": "code",
   "execution_count": 19,
   "metadata": {},
   "outputs": [],
   "source": [
    "#x and y\n",
    "x=dataset.iloc[:,0:4].values\n",
    "y=dataset.iloc[:,4:5].values"
   ]
  },
  {
   "cell_type": "code",
   "execution_count": 20,
   "metadata": {},
   "outputs": [
    {
     "data": {
      "text/plain": [
       "array([[192261.83],\n",
       "       [191792.06],\n",
       "       [191050.39],\n",
       "       [182901.99],\n",
       "       [166187.94],\n",
       "       [156991.12],\n",
       "       [156122.51],\n",
       "       [155752.6 ],\n",
       "       [152211.77],\n",
       "       [149759.96],\n",
       "       [146121.95],\n",
       "       [144259.4 ],\n",
       "       [141585.52],\n",
       "       [134307.35],\n",
       "       [132602.65],\n",
       "       [129917.04],\n",
       "       [126992.93],\n",
       "       [125370.37],\n",
       "       [124266.9 ],\n",
       "       [122776.86],\n",
       "       [118474.03],\n",
       "       [111313.02],\n",
       "       [110352.25],\n",
       "       [108733.99],\n",
       "       [108552.04],\n",
       "       [107404.34],\n",
       "       [105733.54],\n",
       "       [105008.31],\n",
       "       [103282.38],\n",
       "       [101004.64],\n",
       "       [ 99937.59],\n",
       "       [ 97483.56],\n",
       "       [ 97427.84],\n",
       "       [ 96778.92],\n",
       "       [ 96712.8 ],\n",
       "       [ 96479.51],\n",
       "       [ 90708.19],\n",
       "       [ 89949.14],\n",
       "       [ 81229.06],\n",
       "       [ 81005.76],\n",
       "       [ 78239.91],\n",
       "       [ 77798.83],\n",
       "       [ 71498.49],\n",
       "       [ 69758.98],\n",
       "       [ 65200.33],\n",
       "       [ 64926.08],\n",
       "       [ 49490.75],\n",
       "       [ 42559.73],\n",
       "       [ 35673.41],\n",
       "       [ 14681.4 ]])"
      ]
     },
     "execution_count": 20,
     "metadata": {},
     "output_type": "execute_result"
    }
   ],
   "source": [
    "y"
   ]
  },
  {
   "cell_type": "code",
   "execution_count": 21,
   "metadata": {},
   "outputs": [
    {
     "data": {
      "text/plain": [
       "array([[1.6534920e+05, 1.3689780e+05, 4.7178410e+05, 2.0000000e+00],\n",
       "       [1.6259770e+05, 1.5137759e+05, 4.4389853e+05, 0.0000000e+00],\n",
       "       [1.5344151e+05, 1.0114555e+05, 4.0793454e+05, 1.0000000e+00],\n",
       "       [1.4437241e+05, 1.1867185e+05, 3.8319962e+05, 2.0000000e+00],\n",
       "       [1.4210734e+05, 9.1391770e+04, 3.6616842e+05, 1.0000000e+00],\n",
       "       [1.3187690e+05, 9.9814710e+04, 3.6286136e+05, 2.0000000e+00],\n",
       "       [1.3461546e+05, 1.4719887e+05, 1.2771682e+05, 0.0000000e+00],\n",
       "       [1.3029813e+05, 1.4553006e+05, 3.2387668e+05, 1.0000000e+00],\n",
       "       [1.2054252e+05, 1.4871895e+05, 3.1161329e+05, 2.0000000e+00],\n",
       "       [1.2333488e+05, 1.0867917e+05, 3.0498162e+05, 0.0000000e+00],\n",
       "       [1.0191308e+05, 1.1059411e+05, 2.2916095e+05, 1.0000000e+00],\n",
       "       [1.0067196e+05, 9.1790610e+04, 2.4974455e+05, 0.0000000e+00],\n",
       "       [9.3863750e+04, 1.2732038e+05, 2.4983944e+05, 1.0000000e+00],\n",
       "       [9.1992390e+04, 1.3549507e+05, 2.5266493e+05, 0.0000000e+00],\n",
       "       [1.1994324e+05, 1.5654742e+05, 2.5651292e+05, 1.0000000e+00],\n",
       "       [1.1452361e+05, 1.2261684e+05, 2.6177623e+05, 2.0000000e+00],\n",
       "       [7.8013110e+04, 1.2159755e+05, 2.6434606e+05, 0.0000000e+00],\n",
       "       [9.4657160e+04, 1.4507758e+05, 2.8257431e+05, 2.0000000e+00],\n",
       "       [9.1749160e+04, 1.1417579e+05, 2.9491957e+05, 1.0000000e+00],\n",
       "       [8.6419700e+04, 1.5351411e+05, 0.0000000e+00, 2.0000000e+00],\n",
       "       [7.6253860e+04, 1.1386730e+05, 2.9866447e+05, 0.0000000e+00],\n",
       "       [7.8389470e+04, 1.5377343e+05, 2.9973729e+05, 2.0000000e+00],\n",
       "       [7.3994560e+04, 1.2278275e+05, 3.0331926e+05, 1.0000000e+00],\n",
       "       [6.7532530e+04, 1.0575103e+05, 3.0476873e+05, 1.0000000e+00],\n",
       "       [7.7044010e+04, 9.9281340e+04, 1.4057481e+05, 2.0000000e+00],\n",
       "       [6.4664710e+04, 1.3955316e+05, 1.3796262e+05, 0.0000000e+00],\n",
       "       [7.5328870e+04, 1.4413598e+05, 1.3405007e+05, 1.0000000e+00],\n",
       "       [7.2107600e+04, 1.2786455e+05, 3.5318381e+05, 2.0000000e+00],\n",
       "       [6.6051520e+04, 1.8264556e+05, 1.1814820e+05, 1.0000000e+00],\n",
       "       [6.5605480e+04, 1.5303206e+05, 1.0713838e+05, 2.0000000e+00],\n",
       "       [6.1994480e+04, 1.1564128e+05, 9.1131240e+04, 1.0000000e+00],\n",
       "       [6.1136380e+04, 1.5270192e+05, 8.8218230e+04, 2.0000000e+00],\n",
       "       [6.3408860e+04, 1.2921961e+05, 4.6085250e+04, 0.0000000e+00],\n",
       "       [5.5493950e+04, 1.0305749e+05, 2.1463481e+05, 1.0000000e+00],\n",
       "       [4.6426070e+04, 1.5769392e+05, 2.1079767e+05, 0.0000000e+00],\n",
       "       [4.6014020e+04, 8.5047440e+04, 2.0551764e+05, 2.0000000e+00],\n",
       "       [2.8663760e+04, 1.2705621e+05, 2.0112682e+05, 1.0000000e+00],\n",
       "       [4.4069950e+04, 5.1283140e+04, 1.9702942e+05, 0.0000000e+00],\n",
       "       [2.0229590e+04, 6.5947930e+04, 1.8526510e+05, 2.0000000e+00],\n",
       "       [3.8558510e+04, 8.2982090e+04, 1.7499930e+05, 0.0000000e+00],\n",
       "       [2.8754330e+04, 1.1854605e+05, 1.7279567e+05, 0.0000000e+00],\n",
       "       [2.7892920e+04, 8.4710770e+04, 1.6447071e+05, 1.0000000e+00],\n",
       "       [2.3640930e+04, 9.6189630e+04, 1.4800111e+05, 0.0000000e+00],\n",
       "       [1.5505730e+04, 1.2738230e+05, 3.5534170e+04, 2.0000000e+00],\n",
       "       [2.2177740e+04, 1.5480614e+05, 2.8334720e+04, 0.0000000e+00],\n",
       "       [1.0002300e+03, 1.2415304e+05, 1.9039300e+03, 2.0000000e+00],\n",
       "       [1.3154600e+03, 1.1581621e+05, 2.9711446e+05, 1.0000000e+00],\n",
       "       [0.0000000e+00, 1.3542692e+05, 0.0000000e+00, 0.0000000e+00],\n",
       "       [5.4205000e+02, 5.1743150e+04, 0.0000000e+00, 2.0000000e+00],\n",
       "       [0.0000000e+00, 1.1698380e+05, 4.5173060e+04, 0.0000000e+00]])"
      ]
     },
     "execution_count": 21,
     "metadata": {},
     "output_type": "execute_result"
    }
   ],
   "source": [
    "x"
   ]
  },
  {
   "cell_type": "code",
   "execution_count": 22,
   "metadata": {},
   "outputs": [],
   "source": [
    "from sklearn.preprocessing import OneHotEncoder\n",
    "one=OneHotEncoder()"
   ]
  },
  {
   "cell_type": "code",
   "execution_count": 23,
   "metadata": {},
   "outputs": [],
   "source": [
    "z=one.fit_transform(x[:,3:4]).toarray()"
   ]
  },
  {
   "cell_type": "code",
   "execution_count": 24,
   "metadata": {},
   "outputs": [
    {
     "data": {
      "text/html": [
       "<div>\n",
       "<style scoped>\n",
       "    .dataframe tbody tr th:only-of-type {\n",
       "        vertical-align: middle;\n",
       "    }\n",
       "\n",
       "    .dataframe tbody tr th {\n",
       "        vertical-align: top;\n",
       "    }\n",
       "\n",
       "    .dataframe thead th {\n",
       "        text-align: right;\n",
       "    }\n",
       "</style>\n",
       "<table border=\"1\" class=\"dataframe\">\n",
       "  <thead>\n",
       "    <tr style=\"text-align: right;\">\n",
       "      <th></th>\n",
       "      <th>R&amp;D Spend</th>\n",
       "      <th>Administration</th>\n",
       "      <th>Marketing Spend</th>\n",
       "      <th>State</th>\n",
       "      <th>Profit</th>\n",
       "    </tr>\n",
       "  </thead>\n",
       "  <tbody>\n",
       "    <tr>\n",
       "      <th>0</th>\n",
       "      <td>165349.20</td>\n",
       "      <td>136897.80</td>\n",
       "      <td>471784.10</td>\n",
       "      <td>2</td>\n",
       "      <td>192261.83</td>\n",
       "    </tr>\n",
       "    <tr>\n",
       "      <th>1</th>\n",
       "      <td>162597.70</td>\n",
       "      <td>151377.59</td>\n",
       "      <td>443898.53</td>\n",
       "      <td>0</td>\n",
       "      <td>191792.06</td>\n",
       "    </tr>\n",
       "    <tr>\n",
       "      <th>2</th>\n",
       "      <td>153441.51</td>\n",
       "      <td>101145.55</td>\n",
       "      <td>407934.54</td>\n",
       "      <td>1</td>\n",
       "      <td>191050.39</td>\n",
       "    </tr>\n",
       "    <tr>\n",
       "      <th>3</th>\n",
       "      <td>144372.41</td>\n",
       "      <td>118671.85</td>\n",
       "      <td>383199.62</td>\n",
       "      <td>2</td>\n",
       "      <td>182901.99</td>\n",
       "    </tr>\n",
       "  </tbody>\n",
       "</table>\n",
       "</div>"
      ],
      "text/plain": [
       "   R&D Spend  Administration  Marketing Spend  State     Profit\n",
       "0  165349.20       136897.80        471784.10      2  192261.83\n",
       "1  162597.70       151377.59        443898.53      0  191792.06\n",
       "2  153441.51       101145.55        407934.54      1  191050.39\n",
       "3  144372.41       118671.85        383199.62      2  182901.99"
      ]
     },
     "execution_count": 24,
     "metadata": {},
     "output_type": "execute_result"
    }
   ],
   "source": [
    "dataset.head(4)"
   ]
  },
  {
   "cell_type": "code",
   "execution_count": 25,
   "metadata": {},
   "outputs": [
    {
     "data": {
      "text/plain": [
       "array([[0., 0., 1.],\n",
       "       [1., 0., 0.],\n",
       "       [0., 1., 0.],\n",
       "       [0., 0., 1.],\n",
       "       [0., 1., 0.],\n",
       "       [0., 0., 1.],\n",
       "       [1., 0., 0.],\n",
       "       [0., 1., 0.],\n",
       "       [0., 0., 1.],\n",
       "       [1., 0., 0.],\n",
       "       [0., 1., 0.],\n",
       "       [1., 0., 0.],\n",
       "       [0., 1., 0.],\n",
       "       [1., 0., 0.],\n",
       "       [0., 1., 0.],\n",
       "       [0., 0., 1.],\n",
       "       [1., 0., 0.],\n",
       "       [0., 0., 1.],\n",
       "       [0., 1., 0.],\n",
       "       [0., 0., 1.],\n",
       "       [1., 0., 0.],\n",
       "       [0., 0., 1.],\n",
       "       [0., 1., 0.],\n",
       "       [0., 1., 0.],\n",
       "       [0., 0., 1.],\n",
       "       [1., 0., 0.],\n",
       "       [0., 1., 0.],\n",
       "       [0., 0., 1.],\n",
       "       [0., 1., 0.],\n",
       "       [0., 0., 1.],\n",
       "       [0., 1., 0.],\n",
       "       [0., 0., 1.],\n",
       "       [1., 0., 0.],\n",
       "       [0., 1., 0.],\n",
       "       [1., 0., 0.],\n",
       "       [0., 0., 1.],\n",
       "       [0., 1., 0.],\n",
       "       [1., 0., 0.],\n",
       "       [0., 0., 1.],\n",
       "       [1., 0., 0.],\n",
       "       [1., 0., 0.],\n",
       "       [0., 1., 0.],\n",
       "       [1., 0., 0.],\n",
       "       [0., 0., 1.],\n",
       "       [1., 0., 0.],\n",
       "       [0., 0., 1.],\n",
       "       [0., 1., 0.],\n",
       "       [1., 0., 0.],\n",
       "       [0., 0., 1.],\n",
       "       [1., 0., 0.]])"
      ]
     },
     "execution_count": 25,
     "metadata": {},
     "output_type": "execute_result"
    }
   ],
   "source": [
    "z\n",
    "# 0., 0., 1. = Newyork\n",
    "# 1., 0., 0. = California\n",
    "# 0., 1., 0. = Florida"
   ]
  },
  {
   "cell_type": "code",
   "execution_count": 26,
   "metadata": {},
   "outputs": [],
   "source": [
    "x=np.delete(x,3,axis=1)"
   ]
  },
  {
   "cell_type": "code",
   "execution_count": 27,
   "metadata": {},
   "outputs": [
    {
     "data": {
      "text/plain": [
       "(50, 3)"
      ]
     },
     "execution_count": 27,
     "metadata": {},
     "output_type": "execute_result"
    }
   ],
   "source": [
    "x.shape"
   ]
  },
  {
   "cell_type": "code",
   "execution_count": 28,
   "metadata": {},
   "outputs": [],
   "source": [
    "x=np.concatenate((z,x),axis=1)"
   ]
  },
  {
   "cell_type": "code",
   "execution_count": 29,
   "metadata": {},
   "outputs": [
    {
     "data": {
      "text/plain": [
       "(50, 6)"
      ]
     },
     "execution_count": 29,
     "metadata": {},
     "output_type": "execute_result"
    }
   ],
   "source": [
    "x.shape"
   ]
  },
  {
   "cell_type": "code",
   "execution_count": 30,
   "metadata": {},
   "outputs": [],
   "source": [
    "from sklearn.model_selection import train_test_split\n",
    "x_train,x_test,y_train,y_test=train_test_split(x,y,test_size=0.3, random_state=0)"
   ]
  },
  {
   "cell_type": "code",
   "execution_count": 31,
   "metadata": {},
   "outputs": [
    {
     "data": {
      "text/plain": [
       "(35, 6)"
      ]
     },
     "execution_count": 31,
     "metadata": {},
     "output_type": "execute_result"
    }
   ],
   "source": [
    "x_train.shape"
   ]
  },
  {
   "cell_type": "code",
   "execution_count": 32,
   "metadata": {},
   "outputs": [
    {
     "data": {
      "text/plain": [
       "(35, 1)"
      ]
     },
     "execution_count": 32,
     "metadata": {},
     "output_type": "execute_result"
    }
   ],
   "source": [
    "y_train.shape"
   ]
  },
  {
   "cell_type": "code",
   "execution_count": 33,
   "metadata": {},
   "outputs": [],
   "source": [
    "#importing model building libraries\n",
    "import keras\n",
    "import tensorflow\n",
    "from tensorflow.keras.models import Sequential\n",
    "from tensorflow.keras.layers import Dense\n",
    "from tensorflow.keras.layers import Dropout"
   ]
  },
  {
   "cell_type": "code",
   "execution_count": 34,
   "metadata": {},
   "outputs": [
    {
     "data": {
      "text/plain": [
       "('2.4.3', '2.4.1')"
      ]
     },
     "execution_count": 34,
     "metadata": {},
     "output_type": "execute_result"
    }
   ],
   "source": [
    "keras.__version__, tensorflow.__version__\n",
    "\n",
    "#pip install keras==2.4.3, 1.14.0,\n",
    "#pip install tensorflow==2.4.1, 2.5.0"
   ]
  },
  {
   "cell_type": "code",
   "execution_count": 35,
   "metadata": {},
   "outputs": [],
   "source": [
    "#initialize the model\n",
    "regressor=Sequential()"
   ]
  },
  {
   "cell_type": "code",
   "execution_count": 37,
   "metadata": {},
   "outputs": [
    {
     "data": {
      "text/plain": [
       "(35, 6)"
      ]
     },
     "execution_count": 37,
     "metadata": {},
     "output_type": "execute_result"
    }
   ],
   "source": [
    "x_train.shape"
   ]
  },
  {
   "cell_type": "code",
   "execution_count": 65,
   "metadata": {},
   "outputs": [],
   "source": [
    "#input layer\n",
    "regressor.add(Dense(units=6,kernel_initializer='he_uniform',activation='relu'))"
   ]
  },
  {
   "cell_type": "raw",
   "metadata": {},
   "source": [
    "#xaver weight initialization, glorot_normal, glorot_uniform\n",
    "\n",
    "weight = U[-(1/sqrt(n),1/sqrt(n))]\n",
    "#he weight initliation\n",
    "weight = G(0.0,sqrt(2/n))\n",
    "#lecun uniform\n",
    "#\n",
    "(1/sqrt(n))"
   ]
  },
  {
   "cell_type": "code",
   "execution_count": 66,
   "metadata": {},
   "outputs": [],
   "source": [
    "#hidden layer\n",
    "regressor.add(Dense(units=12,kernel_initializer='he_uniform',activation='relu'))"
   ]
  },
  {
   "cell_type": "code",
   "execution_count": 68,
   "metadata": {},
   "outputs": [],
   "source": [
    "#2nd hidden layer\n",
    "regressor.add(Dense(units=8,kernel_initializer='he_uniform',activation='relu'))\n",
    "#3rd layer\n",
    "regressor.add(Dense(units=6,kernel_initializer='he_uniform',activation='relu'))"
   ]
  },
  {
   "cell_type": "code",
   "execution_count": 55,
   "metadata": {},
   "outputs": [],
   "source": [
    "#yes or no,\n",
    "\n",
    "#apple, banana, orange, mango"
   ]
  },
  {
   "cell_type": "code",
   "execution_count": 69,
   "metadata": {},
   "outputs": [],
   "source": [
    "#output layer\n",
    "#regressor.add(Dense(units=1,kernel_initializer='random_uniform',activation='sigmoid'))\n",
    "#regressor.add(Dense(units=1,kernel_initializer='random_uniform',activation='softmax'))\n",
    "#regressor.add(Dense(units=1,kernel_initializer='he_uniform'))"
   ]
  },
  {
   "cell_type": "code",
   "execution_count": 84,
   "metadata": {},
   "outputs": [],
   "source": [
    "#regressor.compile(optimizer='adam',loss='binay_crossentropy',metrics=['accuracy'])\n",
    "#regressor.compile(optimizer='adam',loss='categorical_crossentropy',metrics=['accuracy'])\n",
    "#loss = log(y)-log(y)\n",
    "regressor.compile(optimizer='adagrad',loss='mse',metrics=['mse'])\n",
    "#adadelta, adagrad, sgd"
   ]
  },
  {
   "cell_type": "code",
   "execution_count": 85,
   "metadata": {},
   "outputs": [
    {
     "name": "stdout",
     "output_type": "stream",
     "text": [
      "Epoch 1/300\n",
      "5/5 [==============================] - 2s 3ms/step - loss: 155540792.0000 - mse: 155540792.0000\n",
      "Epoch 2/300\n",
      "5/5 [==============================] - 0s 2ms/step - loss: 161562314.6667 - mse: 161562314.6667\n",
      "Epoch 3/300\n",
      "5/5 [==============================] - 0s 5ms/step - loss: 164784834.6667 - mse: 164784834.6667\n",
      "Epoch 4/300\n",
      "5/5 [==============================] - 0s 6ms/step - loss: 150214800.0000 - mse: 150214800.0000\n",
      "Epoch 5/300\n",
      "5/5 [==============================] - 0s 4ms/step - loss: 185362904.0000 - mse: 185362904.0000\n",
      "Epoch 6/300\n",
      "5/5 [==============================] - 0s 6ms/step - loss: 156716553.3333 - mse: 156716553.3333\n",
      "Epoch 7/300\n",
      "5/5 [==============================] - 0s 6ms/step - loss: 152247017.3333 - mse: 152247017.3333\n",
      "Epoch 8/300\n",
      "5/5 [==============================] - 0s 6ms/step - loss: 179139696.0000 - mse: 179139696.0000\n",
      "Epoch 9/300\n",
      "5/5 [==============================] - 0s 3ms/step - loss: 131047840.0000 - mse: 131047840.0000\n",
      "Epoch 10/300\n",
      "5/5 [==============================] - 0s 4ms/step - loss: 163019762.6667 - mse: 163019762.6667\n",
      "Epoch 11/300\n",
      "5/5 [==============================] - 0s 9ms/step - loss: 165623176.0000 - mse: 165623176.0000\n",
      "Epoch 12/300\n",
      "5/5 [==============================] - 0s 4ms/step - loss: 206358490.6667 - mse: 206358490.6667\n",
      "Epoch 13/300\n",
      "5/5 [==============================] - 0s 4ms/step - loss: 142642886.6667 - mse: 142642886.6667\n",
      "Epoch 14/300\n",
      "5/5 [==============================] - 0s 5ms/step - loss: 154248892.0000 - mse: 154248892.0000\n",
      "Epoch 15/300\n",
      "5/5 [==============================] - 0s 4ms/step - loss: 178797552.0000 - mse: 178797552.0000\n",
      "Epoch 16/300\n",
      "5/5 [==============================] - 0s 6ms/step - loss: 189732576.0000 - mse: 189732576.0000\n",
      "Epoch 17/300\n",
      "5/5 [==============================] - 0s 5ms/step - loss: 162763041.3333 - mse: 162763041.3333\n",
      "Epoch 18/300\n",
      "5/5 [==============================] - 0s 5ms/step - loss: 192088898.6667 - mse: 192088898.6667\n",
      "Epoch 19/300\n",
      "5/5 [==============================] - 0s 4ms/step - loss: 144781817.3333 - mse: 144781817.3333\n",
      "Epoch 20/300\n",
      "5/5 [==============================] - 0s 6ms/step - loss: 150987117.3333 - mse: 150987117.3333\n",
      "Epoch 21/300\n",
      "5/5 [==============================] - 0s 4ms/step - loss: 178542210.6667 - mse: 178542210.6667\n",
      "Epoch 22/300\n",
      "5/5 [==============================] - 0s 7ms/step - loss: 146080313.3333 - mse: 146080313.3333\n",
      "Epoch 23/300\n",
      "5/5 [==============================] - 0s 5ms/step - loss: 137361061.3333 - mse: 137361061.3333\n",
      "Epoch 24/300\n",
      "5/5 [==============================] - 0s 6ms/step - loss: 140658666.6667 - mse: 140658666.6667\n",
      "Epoch 25/300\n",
      "5/5 [==============================] - 0s 3ms/step - loss: 128023477.3333 - mse: 128023477.3333\n",
      "Epoch 26/300\n",
      "5/5 [==============================] - 0s 3ms/step - loss: 151615577.3333 - mse: 151615577.3333\n",
      "Epoch 27/300\n",
      "5/5 [==============================] - 0s 2ms/step - loss: 151561890.6667 - mse: 151561890.6667\n",
      "Epoch 28/300\n",
      "5/5 [==============================] - 0s 5ms/step - loss: 169767069.3333 - mse: 169767069.3333\n",
      "Epoch 29/300\n",
      "5/5 [==============================] - 0s 5ms/step - loss: 151352352.0000 - mse: 151352352.0000\n",
      "Epoch 30/300\n",
      "5/5 [==============================] - 0s 7ms/step - loss: 140322436.0000 - mse: 140322436.0000\n",
      "Epoch 31/300\n",
      "5/5 [==============================] - 0s 7ms/step - loss: 148768670.6667 - mse: 148768670.6667\n",
      "Epoch 32/300\n",
      "5/5 [==============================] - 0s 6ms/step - loss: 151660802.6667 - mse: 151660802.6667\n",
      "Epoch 33/300\n",
      "5/5 [==============================] - 0s 4ms/step - loss: 156146780.0000 - mse: 156146780.0000\n",
      "Epoch 34/300\n",
      "5/5 [==============================] - 0s 7ms/step - loss: 173175509.3333 - mse: 173175509.3333\n",
      "Epoch 35/300\n",
      "5/5 [==============================] - 0s 5ms/step - loss: 155920165.3333 - mse: 155920165.3333\n",
      "Epoch 36/300\n",
      "5/5 [==============================] - 0s 4ms/step - loss: 159640184.0000 - mse: 159640184.0000\n",
      "Epoch 37/300\n",
      "5/5 [==============================] - 0s 6ms/step - loss: 179668578.6667 - mse: 179668578.6667\n",
      "Epoch 38/300\n",
      "5/5 [==============================] - 0s 7ms/step - loss: 155402605.3333 - mse: 155402605.3333\n",
      "Epoch 39/300\n",
      "5/5 [==============================] - 0s 6ms/step - loss: 129436494.0000 - mse: 129436494.0000\n",
      "Epoch 40/300\n",
      "5/5 [==============================] - 0s 4ms/step - loss: 160667781.3333 - mse: 160667781.3333\n",
      "Epoch 41/300\n",
      "5/5 [==============================] - 0s 6ms/step - loss: 117807125.3333 - mse: 117807125.3333\n",
      "Epoch 42/300\n",
      "5/5 [==============================] - 0s 5ms/step - loss: 145460086.6667 - mse: 145460086.6667\n",
      "Epoch 43/300\n",
      "5/5 [==============================] - ETA: 0s - loss: 114126944.0000 - mse: 114126944.000 - 0s 5ms/step - loss: 140412369.3333 - mse: 140412369.3333\n",
      "Epoch 44/300\n",
      "5/5 [==============================] - 0s 5ms/step - loss: 153744305.3333 - mse: 153744305.3333\n",
      "Epoch 45/300\n",
      "5/5 [==============================] - 0s 3ms/step - loss: 149646473.3333 - mse: 149646473.3333\n",
      "Epoch 46/300\n",
      "5/5 [==============================] - 0s 6ms/step - loss: 159801213.3333 - mse: 159801213.3333\n",
      "Epoch 47/300\n",
      "5/5 [==============================] - 0s 4ms/step - loss: 187945138.6667 - mse: 187945138.6667\n",
      "Epoch 48/300\n",
      "5/5 [==============================] - 0s 4ms/step - loss: 150291598.6667 - mse: 150291598.6667\n",
      "Epoch 49/300\n",
      "5/5 [==============================] - 0s 5ms/step - loss: 146876386.6667 - mse: 146876386.6667\n",
      "Epoch 50/300\n",
      "5/5 [==============================] - ETA: 0s - loss: 101585056.0000 - mse: 101585056.000 - 0s 4ms/step - loss: 122281925.3333 - mse: 122281925.3333\n",
      "Epoch 51/300\n",
      "5/5 [==============================] - 0s 6ms/step - loss: 179283634.6667 - mse: 179283634.6667\n",
      "Epoch 52/300\n",
      "5/5 [==============================] - 0s 4ms/step - loss: 136363114.6667 - mse: 136363114.6667\n",
      "Epoch 53/300\n",
      "5/5 [==============================] - 0s 5ms/step - loss: 132387232.0000 - mse: 132387232.0000\n",
      "Epoch 54/300\n",
      "5/5 [==============================] - 0s 4ms/step - loss: 145170733.3333 - mse: 145170733.3333\n",
      "Epoch 55/300\n",
      "5/5 [==============================] - 0s 4ms/step - loss: 137616481.3333 - mse: 137616481.3333\n",
      "Epoch 56/300\n",
      "5/5 [==============================] - 0s 5ms/step - loss: 158588901.3333 - mse: 158588901.3333\n",
      "Epoch 57/300\n",
      "5/5 [==============================] - 0s 4ms/step - loss: 138879446.6667 - mse: 138879446.6667\n",
      "Epoch 58/300\n",
      "5/5 [==============================] - 0s 3ms/step - loss: 125027758.6667 - mse: 125027758.6667\n",
      "Epoch 59/300\n",
      "5/5 [==============================] - 0s 4ms/step - loss: 150413201.3333 - mse: 150413201.3333\n",
      "Epoch 60/300\n",
      "5/5 [==============================] - 0s 4ms/step - loss: 168840586.6667 - mse: 168840586.6667\n",
      "Epoch 61/300\n",
      "5/5 [==============================] - 0s 3ms/step - loss: 160804101.3333 - mse: 160804101.3333\n",
      "Epoch 62/300\n",
      "5/5 [==============================] - 0s 4ms/step - loss: 136129592.6667 - mse: 136129592.6667\n",
      "Epoch 63/300\n",
      "5/5 [==============================] - 0s 2ms/step - loss: 150878854.6667 - mse: 150878854.6667\n",
      "Epoch 64/300\n",
      "5/5 [==============================] - 0s 4ms/step - loss: 167734184.0000 - mse: 167734184.0000\n",
      "Epoch 65/300\n",
      "5/5 [==============================] - 0s 4ms/step - loss: 123030664.0000 - mse: 123030664.0000\n",
      "Epoch 66/300\n",
      "5/5 [==============================] - 0s 3ms/step - loss: 161888221.3333 - mse: 161888221.3333\n",
      "Epoch 67/300\n",
      "5/5 [==============================] - 0s 4ms/step - loss: 129439854.6667 - mse: 129439854.6667\n",
      "Epoch 68/300\n",
      "5/5 [==============================] - 0s 6ms/step - loss: 186938848.0000 - mse: 186938848.0000\n",
      "Epoch 69/300\n",
      "5/5 [==============================] - 0s 6ms/step - loss: 142457012.0000 - mse: 142457012.0000\n",
      "Epoch 70/300\n",
      "5/5 [==============================] - 0s 5ms/step - loss: 136844308.0000 - mse: 136844308.0000\n",
      "Epoch 71/300\n",
      "5/5 [==============================] - 0s 4ms/step - loss: 188252221.3333 - mse: 188252221.3333\n",
      "Epoch 72/300\n",
      "5/5 [==============================] - ETA: 0s - loss: 105706560.0000 - mse: 105706560.000 - 0s 4ms/step - loss: 157528944.0000 - mse: 157528944.0000\n",
      "Epoch 73/300\n",
      "5/5 [==============================] - 0s 3ms/step - loss: 169058074.6667 - mse: 169058074.6667\n",
      "Epoch 74/300\n"
     ]
    },
    {
     "name": "stdout",
     "output_type": "stream",
     "text": [
      "5/5 [==============================] - 0s 4ms/step - loss: 208191005.3333 - mse: 208191005.3333\n",
      "Epoch 75/300\n",
      "5/5 [==============================] - 0s 3ms/step - loss: 144612380.0000 - mse: 144612380.0000\n",
      "Epoch 76/300\n",
      "5/5 [==============================] - 0s 5ms/step - loss: 173512368.0000 - mse: 173512368.0000\n",
      "Epoch 77/300\n",
      "5/5 [==============================] - 0s 4ms/step - loss: 174756186.6667 - mse: 174756186.6667\n",
      "Epoch 78/300\n",
      "5/5 [==============================] - 0s 5ms/step - loss: 132039962.6667 - mse: 132039962.6667\n",
      "Epoch 79/300\n",
      "5/5 [==============================] - 0s 3ms/step - loss: 178298488.0000 - mse: 178298488.0000\n",
      "Epoch 80/300\n",
      "5/5 [==============================] - 0s 4ms/step - loss: 183524042.6667 - mse: 183524042.6667\n",
      "Epoch 81/300\n",
      "5/5 [==============================] - 0s 3ms/step - loss: 133637174.6667 - mse: 133637174.6667\n",
      "Epoch 82/300\n",
      "5/5 [==============================] - 0s 4ms/step - loss: 144868361.3333 - mse: 144868361.3333\n",
      "Epoch 83/300\n",
      "5/5 [==============================] - 0s 6ms/step - loss: 141773230.6667 - mse: 141773230.6667\n",
      "Epoch 84/300\n",
      "5/5 [==============================] - 0s 4ms/step - loss: 148984242.6667 - mse: 148984242.6667\n",
      "Epoch 85/300\n",
      "5/5 [==============================] - 0s 3ms/step - loss: 158668472.0000 - mse: 158668472.0000\n",
      "Epoch 86/300\n",
      "5/5 [==============================] - 0s 3ms/step - loss: 166696658.6667 - mse: 166696658.6667\n",
      "Epoch 87/300\n",
      "5/5 [==============================] - 0s 4ms/step - loss: 175145320.0000 - mse: 175145320.0000\n",
      "Epoch 88/300\n",
      "5/5 [==============================] - 0s 6ms/step - loss: 138184816.0000 - mse: 138184816.0000\n",
      "Epoch 89/300\n",
      "5/5 [==============================] - 0s 4ms/step - loss: 126931650.6667 - mse: 126931650.6667\n",
      "Epoch 90/300\n",
      "5/5 [==============================] - 0s 4ms/step - loss: 147047002.6667 - mse: 147047002.6667\n",
      "Epoch 91/300\n",
      "5/5 [==============================] - 0s 5ms/step - loss: 169402965.3333 - mse: 169402965.3333\n",
      "Epoch 92/300\n",
      "5/5 [==============================] - 0s 4ms/step - loss: 150029941.3333 - mse: 150029941.3333\n",
      "Epoch 93/300\n",
      "5/5 [==============================] - 0s 4ms/step - loss: 149069788.0000 - mse: 149069788.0000\n",
      "Epoch 94/300\n",
      "5/5 [==============================] - 0s 5ms/step - loss: 109208853.3333 - mse: 109208853.3333\n",
      "Epoch 95/300\n",
      "5/5 [==============================] - 0s 3ms/step - loss: 195017445.3333 - mse: 195017445.3333\n",
      "Epoch 96/300\n",
      "5/5 [==============================] - 0s 4ms/step - loss: 139708356.0000 - mse: 139708356.0000\n",
      "Epoch 97/300\n",
      "5/5 [==============================] - 0s 5ms/step - loss: 178466898.6667 - mse: 178466898.6667\n",
      "Epoch 98/300\n",
      "5/5 [==============================] - 0s 3ms/step - loss: 190937061.3333 - mse: 190937061.3333\n",
      "Epoch 99/300\n",
      "5/5 [==============================] - 0s 3ms/step - loss: 160577829.3333 - mse: 160577829.3333\n",
      "Epoch 100/300\n",
      "5/5 [==============================] - 0s 5ms/step - loss: 154388129.3333 - mse: 154388129.3333\n",
      "Epoch 101/300\n",
      "5/5 [==============================] - 0s 4ms/step - loss: 208557168.0000 - mse: 208557168.0000\n",
      "Epoch 102/300\n",
      "5/5 [==============================] - 0s 4ms/step - loss: 189613432.0000 - mse: 189613432.0000\n",
      "Epoch 103/300\n",
      "5/5 [==============================] - 0s 6ms/step - loss: 176516661.3333 - mse: 176516661.3333\n",
      "Epoch 104/300\n",
      "5/5 [==============================] - 0s 5ms/step - loss: 153352141.3333 - mse: 153352141.3333\n",
      "Epoch 105/300\n",
      "5/5 [==============================] - 0s 3ms/step - loss: 167546214.6667 - mse: 167546214.6667\n",
      "Epoch 106/300\n",
      "5/5 [==============================] - 0s 6ms/step - loss: 149684460.0000 - mse: 149684460.0000\n",
      "Epoch 107/300\n",
      "5/5 [==============================] - 0s 5ms/step - loss: 156123982.6667 - mse: 156123982.6667\n",
      "Epoch 108/300\n",
      "5/5 [==============================] - 0s 4ms/step - loss: 162125504.0000 - mse: 162125504.0000\n",
      "Epoch 109/300\n",
      "5/5 [==============================] - 0s 4ms/step - loss: 196656352.0000 - mse: 196656352.0000\n",
      "Epoch 110/300\n",
      "5/5 [==============================] - 0s 4ms/step - loss: 142448514.6667 - mse: 142448514.6667\n",
      "Epoch 111/300\n",
      "5/5 [==============================] - 0s 6ms/step - loss: 168869925.3333 - mse: 168869925.3333\n",
      "Epoch 112/300\n",
      "5/5 [==============================] - 0s 4ms/step - loss: 158703080.0000 - mse: 158703080.0000\n",
      "Epoch 113/300\n",
      "5/5 [==============================] - 0s 3ms/step - loss: 148874658.6667 - mse: 148874658.6667\n",
      "Epoch 114/300\n",
      "5/5 [==============================] - 0s 5ms/step - loss: 180755808.0000 - mse: 180755808.0000\n",
      "Epoch 115/300\n",
      "5/5 [==============================] - 0s 3ms/step - loss: 171742106.6667 - mse: 171742106.6667\n",
      "Epoch 116/300\n",
      "5/5 [==============================] - 0s 4ms/step - loss: 160058645.3333 - mse: 160058645.3333\n",
      "Epoch 117/300\n",
      "5/5 [==============================] - 0s 4ms/step - loss: 141367757.3333 - mse: 141367757.3333\n",
      "Epoch 118/300\n",
      "5/5 [==============================] - 0s 3ms/step - loss: 158868104.0000 - mse: 158868104.0000\n",
      "Epoch 119/300\n",
      "5/5 [==============================] - 0s 5ms/step - loss: 150449413.3333 - mse: 150449413.3333\n",
      "Epoch 120/300\n",
      "5/5 [==============================] - 0s 3ms/step - loss: 166919056.0000 - mse: 166919056.0000\n",
      "Epoch 121/300\n",
      "5/5 [==============================] - 0s 5ms/step - loss: 151987304.0000 - mse: 151987304.0000\n",
      "Epoch 122/300\n",
      "5/5 [==============================] - 0s 6ms/step - loss: 156575652.0000 - mse: 156575652.0000\n",
      "Epoch 123/300\n",
      "5/5 [==============================] - 0s 3ms/step - loss: 187213752.0000 - mse: 187213752.0000\n",
      "Epoch 124/300\n",
      "5/5 [==============================] - 0s 4ms/step - loss: 172776016.0000 - mse: 172776016.0000\n",
      "Epoch 125/300\n",
      "5/5 [==============================] - 0s 3ms/step - loss: 149803669.3333 - mse: 149803669.3333\n",
      "Epoch 126/300\n",
      "5/5 [==============================] - 0s 5ms/step - loss: 152377272.0000 - mse: 152377272.0000\n",
      "Epoch 127/300\n",
      "5/5 [==============================] - 0s 4ms/step - loss: 159338616.0000 - mse: 159338616.0000\n",
      "Epoch 128/300\n",
      "5/5 [==============================] - 0s 3ms/step - loss: 139905052.0000 - mse: 139905052.0000\n",
      "Epoch 129/300\n",
      "5/5 [==============================] - 0s 4ms/step - loss: 135270292.0000 - mse: 135270292.0000\n",
      "Epoch 130/300\n",
      "5/5 [==============================] - 0s 5ms/step - loss: 182144474.6667 - mse: 182144474.6667\n",
      "Epoch 131/300\n",
      "5/5 [==============================] - 0s 3ms/step - loss: 145247042.6667 - mse: 145247042.6667\n",
      "Epoch 132/300\n",
      "5/5 [==============================] - 0s 6ms/step - loss: 133438837.3333 - mse: 133438837.3333\n",
      "Epoch 133/300\n",
      "5/5 [==============================] - 0s 4ms/step - loss: 199641189.3333 - mse: 199641189.3333\n",
      "Epoch 134/300\n",
      "5/5 [==============================] - 0s 3ms/step - loss: 187581842.6667 - mse: 187581842.6667\n",
      "Epoch 135/300\n",
      "5/5 [==============================] - 0s 3ms/step - loss: 144884086.6667 - mse: 144884086.6667\n",
      "Epoch 136/300\n",
      "5/5 [==============================] - 0s 3ms/step - loss: 148490874.6667 - mse: 148490874.6667\n",
      "Epoch 137/300\n",
      "5/5 [==============================] - 0s 3ms/step - loss: 137022324.0000 - mse: 137022324.0000\n",
      "Epoch 138/300\n",
      "5/5 [==============================] - 0s 4ms/step - loss: 210541592.0000 - mse: 210541592.0000\n",
      "Epoch 139/300\n",
      "5/5 [==============================] - 0s 3ms/step - loss: 133367749.3333 - mse: 133367749.3333\n",
      "Epoch 140/300\n",
      "5/5 [==============================] - 0s 4ms/step - loss: 128272026.6667 - mse: 128272026.6667\n",
      "Epoch 141/300\n",
      "5/5 [==============================] - 0s 4ms/step - loss: 135925580.0000 - mse: 135925580.0000\n",
      "Epoch 142/300\n",
      "5/5 [==============================] - 0s 3ms/step - loss: 167897202.6667 - mse: 167897202.6667\n",
      "Epoch 143/300\n",
      "5/5 [==============================] - 0s 4ms/step - loss: 144413920.0000 - mse: 144413920.0000\n",
      "Epoch 144/300\n",
      "5/5 [==============================] - 0s 3ms/step - loss: 125766846.6667 - mse: 125766846.6667\n",
      "Epoch 145/300\n",
      "5/5 [==============================] - 0s 2ms/step - loss: 157381544.0000 - mse: 157381544.0000\n",
      "Epoch 146/300\n",
      "5/5 [==============================] - 0s 5ms/step - loss: 130823681.3333 - mse: 130823681.3333\n",
      "Epoch 147/300\n",
      "5/5 [==============================] - 0s 3ms/step - loss: 137350080.0000 - mse: 137350080.0000\n",
      "Epoch 148/300\n"
     ]
    },
    {
     "name": "stdout",
     "output_type": "stream",
     "text": [
      "5/5 [==============================] - 0s 5ms/step - loss: 159504416.0000 - mse: 159504416.0000\n",
      "Epoch 149/300\n",
      "5/5 [==============================] - 0s 6ms/step - loss: 127582666.6667 - mse: 127582666.6667\n",
      "Epoch 150/300\n",
      "5/5 [==============================] - 0s 3ms/step - loss: 116629707.3333 - mse: 116629707.3333\n",
      "Epoch 151/300\n",
      "5/5 [==============================] - 0s 4ms/step - loss: 155887193.3333 - mse: 155887193.3333\n",
      "Epoch 152/300\n",
      "5/5 [==============================] - 0s 3ms/step - loss: 158959629.3333 - mse: 158959629.3333\n",
      "Epoch 153/300\n",
      "5/5 [==============================] - 0s 4ms/step - loss: 155907240.0000 - mse: 155907240.0000\n",
      "Epoch 154/300\n",
      "5/5 [==============================] - 0s 2ms/step - loss: 129928232.0000 - mse: 129928232.0000\n",
      "Epoch 155/300\n",
      "5/5 [==============================] - 0s 4ms/step - loss: 150908301.3333 - mse: 150908301.3333\n",
      "Epoch 156/300\n",
      "5/5 [==============================] - 0s 5ms/step - loss: 133961042.6667 - mse: 133961042.6667\n",
      "Epoch 157/300\n",
      "5/5 [==============================] - 0s 6ms/step - loss: 137462096.0000 - mse: 137462096.0000\n",
      "Epoch 158/300\n",
      "5/5 [==============================] - 0s 5ms/step - loss: 132601042.6667 - mse: 132601042.6667\n",
      "Epoch 159/300\n",
      "5/5 [==============================] - 0s 5ms/step - loss: 167234360.0000 - mse: 167234360.0000\n",
      "Epoch 160/300\n",
      "5/5 [==============================] - 0s 5ms/step - loss: 149195021.3333 - mse: 149195021.3333\n",
      "Epoch 161/300\n",
      "5/5 [==============================] - 0s 6ms/step - loss: 158487128.0000 - mse: 158487128.0000\n",
      "Epoch 162/300\n",
      "5/5 [==============================] - 0s 5ms/step - loss: 155114252.0000 - mse: 155114252.0000\n",
      "Epoch 163/300\n",
      "5/5 [==============================] - 0s 6ms/step - loss: 160178546.6667 - mse: 160178546.6667\n",
      "Epoch 164/300\n",
      "5/5 [==============================] - 0s 4ms/step - loss: 160127764.0000 - mse: 160127764.0000\n",
      "Epoch 165/300\n",
      "5/5 [==============================] - 0s 3ms/step - loss: 150421557.3333 - mse: 150421557.3333\n",
      "Epoch 166/300\n",
      "5/5 [==============================] - 0s 4ms/step - loss: 164673352.0000 - mse: 164673352.0000\n",
      "Epoch 167/300\n",
      "5/5 [==============================] - 0s 3ms/step - loss: 148100345.3333 - mse: 148100345.3333\n",
      "Epoch 168/300\n",
      "5/5 [==============================] - 0s 5ms/step - loss: 167568829.3333 - mse: 167568829.3333\n",
      "Epoch 169/300\n",
      "5/5 [==============================] - 0s 5ms/step - loss: 130728290.6667 - mse: 130728290.6667\n",
      "Epoch 170/300\n",
      "5/5 [==============================] - 0s 3ms/step - loss: 152712917.3333 - mse: 152712917.3333\n",
      "Epoch 171/300\n",
      "5/5 [==============================] - 0s 4ms/step - loss: 142641965.3333 - mse: 142641965.3333\n",
      "Epoch 172/300\n",
      "5/5 [==============================] - 0s 5ms/step - loss: 163870914.6667 - mse: 163870914.6667\n",
      "Epoch 173/300\n",
      "5/5 [==============================] - 0s 3ms/step - loss: 171118277.3333 - mse: 171118277.3333\n",
      "Epoch 174/300\n",
      "5/5 [==============================] - 0s 4ms/step - loss: 148758992.0000 - mse: 148758992.0000\n",
      "Epoch 175/300\n",
      "5/5 [==============================] - 0s 3ms/step - loss: 128027666.6667 - mse: 128027666.6667\n",
      "Epoch 176/300\n",
      "5/5 [==============================] - 0s 5ms/step - loss: 130887658.6667 - mse: 130887658.6667\n",
      "Epoch 177/300\n",
      "5/5 [==============================] - 0s 4ms/step - loss: 142600642.6667 - mse: 142600642.6667\n",
      "Epoch 178/300\n",
      "5/5 [==============================] - 0s 7ms/step - loss: 169560274.6667 - mse: 169560274.6667\n",
      "Epoch 179/300\n",
      "5/5 [==============================] - 0s 3ms/step - loss: 154905720.0000 - mse: 154905720.0000\n",
      "Epoch 180/300\n",
      "5/5 [==============================] - 0s 4ms/step - loss: 121888789.3333 - mse: 121888789.3333\n",
      "Epoch 181/300\n",
      "5/5 [==============================] - 0s 6ms/step - loss: 169984298.6667 - mse: 169984298.6667\n",
      "Epoch 182/300\n",
      "5/5 [==============================] - 0s 5ms/step - loss: 147953336.0000 - mse: 147953336.0000\n",
      "Epoch 183/300\n",
      "5/5 [==============================] - 0s 5ms/step - loss: 148747949.3333 - mse: 148747949.3333\n",
      "Epoch 184/300\n",
      "5/5 [==============================] - 0s 3ms/step - loss: 147147632.0000 - mse: 147147632.0000\n",
      "Epoch 185/300\n",
      "5/5 [==============================] - 0s 3ms/step - loss: 150644489.3333 - mse: 150644489.3333\n",
      "Epoch 186/300\n",
      "5/5 [==============================] - 0s 3ms/step - loss: 150803814.6667 - mse: 150803814.6667\n",
      "Epoch 187/300\n",
      "5/5 [==============================] - 0s 4ms/step - loss: 124052420.0000 - mse: 124052420.0000\n",
      "Epoch 188/300\n",
      "5/5 [==============================] - 0s 3ms/step - loss: 111105688.0000 - mse: 111105688.0000\n",
      "Epoch 189/300\n",
      "5/5 [==============================] - 0s 6ms/step - loss: 161351466.6667 - mse: 161351466.6667\n",
      "Epoch 190/300\n",
      "5/5 [==============================] - 0s 4ms/step - loss: 154808301.3333 - mse: 154808301.3333\n",
      "Epoch 191/300\n",
      "5/5 [==============================] - 0s 3ms/step - loss: 145166328.0000 - mse: 145166328.0000\n",
      "Epoch 192/300\n",
      "5/5 [==============================] - 0s 5ms/step - loss: 136682756.0000 - mse: 136682756.0000\n",
      "Epoch 193/300\n",
      "5/5 [==============================] - 0s 3ms/step - loss: 153458077.3333 - mse: 153458077.3333\n",
      "Epoch 194/300\n",
      "5/5 [==============================] - 0s 3ms/step - loss: 179009312.0000 - mse: 179009312.0000\n",
      "Epoch 195/300\n",
      "5/5 [==============================] - 0s 5ms/step - loss: 159166858.6667 - mse: 159166858.6667\n",
      "Epoch 196/300\n",
      "5/5 [==============================] - 0s 4ms/step - loss: 155588973.3333 - mse: 155588973.3333\n",
      "Epoch 197/300\n",
      "5/5 [==============================] - 0s 3ms/step - loss: 172413178.6667 - mse: 172413178.6667\n",
      "Epoch 198/300\n",
      "5/5 [==============================] - 0s 6ms/step - loss: 138524350.6667 - mse: 138524350.6667\n",
      "Epoch 199/300\n",
      "5/5 [==============================] - 0s 3ms/step - loss: 144730101.3333 - mse: 144730101.3333\n",
      "Epoch 200/300\n",
      "5/5 [==============================] - 0s 4ms/step - loss: 173639645.3333 - mse: 173639645.3333\n",
      "Epoch 201/300\n",
      "5/5 [==============================] - 0s 5ms/step - loss: 177074600.0000 - mse: 177074600.0000\n",
      "Epoch 202/300\n",
      "5/5 [==============================] - 0s 5ms/step - loss: 154205834.6667 - mse: 154205834.6667\n",
      "Epoch 203/300\n",
      "5/5 [==============================] - 0s 4ms/step - loss: 164367706.6667 - mse: 164367706.6667\n",
      "Epoch 204/300\n",
      "5/5 [==============================] - 0s 4ms/step - loss: 160227317.3333 - mse: 160227317.3333\n",
      "Epoch 205/300\n",
      "5/5 [==============================] - 0s 6ms/step - loss: 157195064.0000 - mse: 157195064.0000\n",
      "Epoch 206/300\n",
      "5/5 [==============================] - 0s 4ms/step - loss: 132610497.3333 - mse: 132610497.3333\n",
      "Epoch 207/300\n",
      "5/5 [==============================] - 0s 5ms/step - loss: 168751602.6667 - mse: 168751602.6667\n",
      "Epoch 208/300\n",
      "5/5 [==============================] - 0s 4ms/step - loss: 179772282.6667 - mse: 179772282.6667\n",
      "Epoch 209/300\n",
      "5/5 [==============================] - 0s 5ms/step - loss: 122665212.0000 - mse: 122665212.0000\n",
      "Epoch 210/300\n",
      "5/5 [==============================] - 0s 5ms/step - loss: 160127296.0000 - mse: 160127296.0000\n",
      "Epoch 211/300\n",
      "5/5 [==============================] - 0s 3ms/step - loss: 171883325.3333 - mse: 171883325.3333\n",
      "Epoch 212/300\n",
      "5/5 [==============================] - 0s 5ms/step - loss: 181367426.6667 - mse: 181367426.6667\n",
      "Epoch 213/300\n",
      "5/5 [==============================] - 0s 5ms/step - loss: 134358022.6667 - mse: 134358022.6667\n",
      "Epoch 214/300\n",
      "5/5 [==============================] - 0s 3ms/step - loss: 139955030.6667 - mse: 139955030.6667\n",
      "Epoch 215/300\n",
      "5/5 [==============================] - 0s 5ms/step - loss: 199713208.0000 - mse: 199713208.0000\n",
      "Epoch 216/300\n",
      "5/5 [==============================] - 0s 5ms/step - loss: 125856550.6667 - mse: 125856550.6667\n",
      "Epoch 217/300\n",
      "5/5 [==============================] - 0s 3ms/step - loss: 155528184.0000 - mse: 155528184.0000\n",
      "Epoch 218/300\n",
      "5/5 [==============================] - 0s 4ms/step - loss: 127131014.6667 - mse: 127131014.6667\n",
      "Epoch 219/300\n",
      "5/5 [==============================] - 0s 3ms/step - loss: 148577854.6667 - mse: 148577854.6667\n",
      "Epoch 220/300\n",
      "5/5 [==============================] - 0s 5ms/step - loss: 153177584.0000 - mse: 153177584.0000\n",
      "Epoch 221/300\n",
      "5/5 [==============================] - ETA: 0s - loss: 136466784.0000 - mse: 136466784.000 - 0s 4ms/step - loss: 159841912.0000 - mse: 159841912.0000\n",
      "Epoch 222/300\n"
     ]
    },
    {
     "name": "stdout",
     "output_type": "stream",
     "text": [
      "5/5 [==============================] - 0s 3ms/step - loss: 193545744.0000 - mse: 193545744.0000\n",
      "Epoch 223/300\n",
      "5/5 [==============================] - 0s 3ms/step - loss: 170958877.3333 - mse: 170958877.3333\n",
      "Epoch 224/300\n",
      "5/5 [==============================] - 0s 4ms/step - loss: 157581448.0000 - mse: 157581448.0000\n",
      "Epoch 225/300\n",
      "5/5 [==============================] - 0s 3ms/step - loss: 154207397.3333 - mse: 154207397.3333\n",
      "Epoch 226/300\n",
      "5/5 [==============================] - 0s 5ms/step - loss: 142818165.3333 - mse: 142818165.3333\n",
      "Epoch 227/300\n",
      "5/5 [==============================] - 0s 6ms/step - loss: 164123442.6667 - mse: 164123442.6667\n",
      "Epoch 228/300\n",
      "5/5 [==============================] - 0s 4ms/step - loss: 145739886.6667 - mse: 145739886.6667\n",
      "Epoch 229/300\n",
      "5/5 [==============================] - 0s 5ms/step - loss: 159199002.6667 - mse: 159199002.6667\n",
      "Epoch 230/300\n",
      "5/5 [==============================] - 0s 2ms/step - loss: 143066485.3333 - mse: 143066485.3333\n",
      "Epoch 231/300\n",
      "5/5 [==============================] - 0s 4ms/step - loss: 136364972.0000 - mse: 136364972.0000\n",
      "Epoch 232/300\n",
      "5/5 [==============================] - 0s 5ms/step - loss: 159935573.3333 - mse: 159935573.3333\n",
      "Epoch 233/300\n",
      "5/5 [==============================] - 0s 5ms/step - loss: 135101630.6667 - mse: 135101630.6667\n",
      "Epoch 234/300\n",
      "5/5 [==============================] - 0s 3ms/step - loss: 137103117.3333 - mse: 137103117.3333\n",
      "Epoch 235/300\n",
      "5/5 [==============================] - 0s 3ms/step - loss: 161036610.6667 - mse: 161036610.6667\n",
      "Epoch 236/300\n",
      "5/5 [==============================] - 0s 3ms/step - loss: 160185344.0000 - mse: 160185344.0000\n",
      "Epoch 237/300\n",
      "5/5 [==============================] - 0s 4ms/step - loss: 170867794.6667 - mse: 170867794.6667\n",
      "Epoch 238/300\n",
      "5/5 [==============================] - 0s 5ms/step - loss: 136115464.0000 - mse: 136115464.0000\n",
      "Epoch 239/300\n",
      "5/5 [==============================] - 0s 3ms/step - loss: 183560448.0000 - mse: 183560448.0000\n",
      "Epoch 240/300\n",
      "5/5 [==============================] - 0s 4ms/step - loss: 173103309.3333 - mse: 173103309.3333\n",
      "Epoch 241/300\n",
      "5/5 [==============================] - 0s 4ms/step - loss: 156170978.6667 - mse: 156170978.6667\n",
      "Epoch 242/300\n",
      "5/5 [==============================] - 0s 4ms/step - loss: 194197664.0000 - mse: 194197664.0000\n",
      "Epoch 243/300\n",
      "5/5 [==============================] - 0s 4ms/step - loss: 162039528.0000 - mse: 162039528.0000\n",
      "Epoch 244/300\n",
      "5/5 [==============================] - 0s 5ms/step - loss: 157108626.6667 - mse: 157108626.6667\n",
      "Epoch 245/300\n",
      "5/5 [==============================] - 0s 5ms/step - loss: 170812624.0000 - mse: 170812624.0000\n",
      "Epoch 246/300\n",
      "5/5 [==============================] - 0s 5ms/step - loss: 121390301.3333 - mse: 121390301.3333\n",
      "Epoch 247/300\n",
      "5/5 [==============================] - ETA: 0s - loss: 65185996.0000 - mse: 65185996.000 - 0s 5ms/step - loss: 132500598.0000 - mse: 132500598.0000\n",
      "Epoch 248/300\n",
      "5/5 [==============================] - 0s 5ms/step - loss: 139974658.6667 - mse: 139974658.6667\n",
      "Epoch 249/300\n",
      "5/5 [==============================] - 0s 4ms/step - loss: 131025789.3333 - mse: 131025789.3333\n",
      "Epoch 250/300\n",
      "5/5 [==============================] - 0s 4ms/step - loss: 134442643.3333 - mse: 134442643.3333\n",
      "Epoch 251/300\n",
      "5/5 [==============================] - 0s 5ms/step - loss: 146250838.6667 - mse: 146250838.6667\n",
      "Epoch 252/300\n",
      "5/5 [==============================] - 0s 4ms/step - loss: 166368960.0000 - mse: 166368960.0000\n",
      "Epoch 253/300\n",
      "5/5 [==============================] - 0s 5ms/step - loss: 151938594.6667 - mse: 151938594.6667\n",
      "Epoch 254/300\n",
      "5/5 [==============================] - 0s 3ms/step - loss: 143333329.3333 - mse: 143333329.3333\n",
      "Epoch 255/300\n",
      "5/5 [==============================] - 0s 4ms/step - loss: 164416434.6667 - mse: 164416434.6667\n",
      "Epoch 256/300\n",
      "5/5 [==============================] - ETA: 0s - loss: 288054400.0000 - mse: 288054400.000 - 0s 9ms/step - loss: 196628624.0000 - mse: 196628624.0000\n",
      "Epoch 257/300\n",
      "5/5 [==============================] - 0s 4ms/step - loss: 154347618.6667 - mse: 154347618.6667\n",
      "Epoch 258/300\n",
      "5/5 [==============================] - 0s 4ms/step - loss: 156955026.6667 - mse: 156955026.6667\n",
      "Epoch 259/300\n",
      "5/5 [==============================] - 0s 4ms/step - loss: 151851193.3333 - mse: 151851193.3333\n",
      "Epoch 260/300\n",
      "5/5 [==============================] - 0s 4ms/step - loss: 182594602.6667 - mse: 182594602.6667\n",
      "Epoch 261/300\n",
      "5/5 [==============================] - 0s 6ms/step - loss: 127335838.6667 - mse: 127335838.6667\n",
      "Epoch 262/300\n",
      "5/5 [==============================] - 0s 5ms/step - loss: 139867384.0000 - mse: 139867384.0000\n",
      "Epoch 263/300\n",
      "5/5 [==============================] - 0s 5ms/step - loss: 150610245.3333 - mse: 150610245.3333\n",
      "Epoch 264/300\n",
      "5/5 [==============================] - 0s 4ms/step - loss: 161168088.0000 - mse: 161168088.0000\n",
      "Epoch 265/300\n",
      "5/5 [==============================] - 0s 4ms/step - loss: 170848213.3333 - mse: 170848213.3333\n",
      "Epoch 266/300\n",
      "5/5 [==============================] - 0s 3ms/step - loss: 156990744.0000 - mse: 156990744.0000\n",
      "Epoch 267/300\n",
      "5/5 [==============================] - 0s 3ms/step - loss: 145033318.6667 - mse: 145033318.6667\n",
      "Epoch 268/300\n",
      "5/5 [==============================] - 0s 3ms/step - loss: 137222348.0000 - mse: 137222348.0000\n",
      "Epoch 269/300\n",
      "5/5 [==============================] - 0s 4ms/step - loss: 138951952.0000 - mse: 138951952.0000\n",
      "Epoch 270/300\n",
      "5/5 [==============================] - 0s 5ms/step - loss: 170557946.6667 - mse: 170557946.6667\n",
      "Epoch 271/300\n",
      "5/5 [==============================] - 0s 4ms/step - loss: 126592181.3333 - mse: 126592181.3333\n",
      "Epoch 272/300\n",
      "5/5 [==============================] - 0s 5ms/step - loss: 158779426.6667 - mse: 158779426.6667\n",
      "Epoch 273/300\n",
      "5/5 [==============================] - 0s 3ms/step - loss: 151901510.6667 - mse: 151901510.6667\n",
      "Epoch 274/300\n",
      "5/5 [==============================] - 0s 4ms/step - loss: 129598558.6667 - mse: 129598558.6667\n",
      "Epoch 275/300\n",
      "5/5 [==============================] - 0s 3ms/step - loss: 153665933.3333 - mse: 153665933.3333\n",
      "Epoch 276/300\n",
      "5/5 [==============================] - 0s 4ms/step - loss: 138085338.6667 - mse: 138085338.6667\n",
      "Epoch 277/300\n",
      "5/5 [==============================] - 0s 6ms/step - loss: 136308454.6667 - mse: 136308454.6667\n",
      "Epoch 278/300\n",
      "5/5 [==============================] - 0s 3ms/step - loss: 144037878.6667 - mse: 144037878.6667\n",
      "Epoch 279/300\n",
      "5/5 [==============================] - 0s 6ms/step - loss: 114518036.0000 - mse: 114518036.0000\n",
      "Epoch 280/300\n",
      "5/5 [==============================] - 0s 4ms/step - loss: 179107058.6667 - mse: 179107058.6667\n",
      "Epoch 281/300\n",
      "5/5 [==============================] - 0s 4ms/step - loss: 164037234.6667 - mse: 164037234.6667\n",
      "Epoch 282/300\n",
      "5/5 [==============================] - 0s 3ms/step - loss: 156065162.6667 - mse: 156065162.6667\n",
      "Epoch 283/300\n",
      "5/5 [==============================] - 0s 3ms/step - loss: 165451029.3333 - mse: 165451029.3333\n",
      "Epoch 284/300\n",
      "5/5 [==============================] - 0s 3ms/step - loss: 170720176.0000 - mse: 170720176.0000\n",
      "Epoch 285/300\n",
      "5/5 [==============================] - ETA: 0s - loss: 162658720.0000 - mse: 162658720.000 - 0s 5ms/step - loss: 156072520.0000 - mse: 156072520.0000\n",
      "Epoch 286/300\n",
      "5/5 [==============================] - 0s 3ms/step - loss: 169853088.0000 - mse: 169853088.0000\n",
      "Epoch 287/300\n",
      "5/5 [==============================] - 0s 6ms/step - loss: 170352922.6667 - mse: 170352922.6667\n",
      "Epoch 288/300\n",
      "5/5 [==============================] - 0s 4ms/step - loss: 126916614.6667 - mse: 126916614.6667\n",
      "Epoch 289/300\n",
      "5/5 [==============================] - 0s 3ms/step - loss: 128105878.6667 - mse: 128105878.6667\n",
      "Epoch 290/300\n",
      "5/5 [==============================] - 0s 5ms/step - loss: 144560278.6667 - mse: 144560278.6667\n",
      "Epoch 291/300\n",
      "5/5 [==============================] - 0s 4ms/step - loss: 143261456.0000 - mse: 143261456.0000\n",
      "Epoch 292/300\n",
      "5/5 [==============================] - 0s 4ms/step - loss: 157399282.6667 - mse: 157399282.6667\n",
      "Epoch 293/300\n",
      "5/5 [==============================] - 0s 5ms/step - loss: 155065278.6667 - mse: 155065278.6667\n",
      "Epoch 294/300\n",
      "5/5 [==============================] - 0s 3ms/step - loss: 133369104.0000 - mse: 133369104.0000\n",
      "Epoch 295/300\n"
     ]
    },
    {
     "name": "stdout",
     "output_type": "stream",
     "text": [
      "5/5 [==============================] - 0s 5ms/step - loss: 145488666.6667 - mse: 145488666.6667\n",
      "Epoch 296/300\n",
      "5/5 [==============================] - 0s 4ms/step - loss: 139115061.3333 - mse: 139115061.3333\n",
      "Epoch 297/300\n",
      "5/5 [==============================] - 0s 7ms/step - loss: 159544061.3333 - mse: 159544061.3333\n",
      "Epoch 298/300\n",
      "5/5 [==============================] - 0s 4ms/step - loss: 179426269.3333 - mse: 179426269.3333\n",
      "Epoch 299/300\n",
      "5/5 [==============================] - 0s 3ms/step - loss: 134115850.6667 - mse: 134115850.6667\n",
      "Epoch 300/300\n",
      "5/5 [==============================] - 0s 4ms/step - loss: 173716018.6667 - mse: 173716018.6667\n"
     ]
    },
    {
     "data": {
      "text/plain": [
       "<tensorflow.python.keras.callbacks.History at 0x1bf0ebeb700>"
      ]
     },
     "execution_count": 85,
     "metadata": {},
     "output_type": "execute_result"
    }
   ],
   "source": [
    "regressor.fit(x_train,y_train,epochs=300,batch_size=8)"
   ]
  },
  {
   "cell_type": "code",
   "execution_count": 86,
   "metadata": {},
   "outputs": [
    {
     "name": "stdout",
     "output_type": "stream",
     "text": [
      "WARNING:tensorflow:5 out of the last 5 calls to <function Model.make_predict_function.<locals>.predict_function at 0x000001BF0A64BDC0> triggered tf.function retracing. Tracing is expensive and the excessive number of tracings could be due to (1) creating @tf.function repeatedly in a loop, (2) passing tensors with different shapes, (3) passing Python objects instead of tensors. For (1), please define your @tf.function outside of the loop. For (2), @tf.function has experimental_relax_shapes=True option that relaxes argument shapes that can avoid unnecessary retracing. For (3), please refer to https://www.tensorflow.org/guide/function#controlling_retracing and https://www.tensorflow.org/api_docs/python/tf/function for  more details.\n"
     ]
    }
   ],
   "source": [
    "y_pred = regressor.predict(x_test)"
   ]
  },
  {
   "cell_type": "code",
   "execution_count": 87,
   "metadata": {},
   "outputs": [
    {
     "data": {
      "text/plain": [
       "array([[119597.164],\n",
       "       [120183.49 ],\n",
       "       [126421.95 ],\n",
       "       [ 60757.08 ],\n",
       "       [171119.83 ],\n",
       "       [119757.01 ],\n",
       "       [ 50021.75 ],\n",
       "       [103463.79 ],\n",
       "       [115986.88 ],\n",
       "       [156898.56 ],\n",
       "       [ 90064.17 ],\n",
       "       [ 76349.17 ],\n",
       "       [113417.75 ],\n",
       "       [102950.48 ],\n",
       "       [124868.32 ]], dtype=float32)"
      ]
     },
     "execution_count": 87,
     "metadata": {},
     "output_type": "execute_result"
    }
   ],
   "source": [
    "y_pred"
   ]
  },
  {
   "cell_type": "code",
   "execution_count": 88,
   "metadata": {},
   "outputs": [
    {
     "data": {
      "text/plain": [
       "array([[103282.38],\n",
       "       [144259.4 ],\n",
       "       [146121.95],\n",
       "       [ 77798.83],\n",
       "       [191050.39],\n",
       "       [105008.31],\n",
       "       [ 81229.06],\n",
       "       [ 97483.56],\n",
       "       [110352.25],\n",
       "       [166187.94],\n",
       "       [ 96778.92],\n",
       "       [ 96479.51],\n",
       "       [105733.54],\n",
       "       [ 96712.8 ],\n",
       "       [124266.9 ]])"
      ]
     },
     "execution_count": 88,
     "metadata": {},
     "output_type": "execute_result"
    }
   ],
   "source": [
    "y_test"
   ]
  },
  {
   "cell_type": "code",
   "execution_count": 89,
   "metadata": {},
   "outputs": [],
   "source": [
    "from sklearn.metrics import r2_score\n",
    "accuracy = r2_score(y_pred,y_test)"
   ]
  },
  {
   "cell_type": "code",
   "execution_count": 90,
   "metadata": {},
   "outputs": [
    {
     "data": {
      "text/plain": [
       "73.51992378746655"
      ]
     },
     "execution_count": 90,
     "metadata": {},
     "output_type": "execute_result"
    }
   ],
   "source": [
    "accuracy*100"
   ]
  },
  {
   "cell_type": "code",
   "execution_count": 92,
   "metadata": {},
   "outputs": [],
   "source": [
    "regressor.save('regressor.h5')"
   ]
  },
  {
   "cell_type": "code",
   "execution_count": 95,
   "metadata": {},
   "outputs": [
    {
     "data": {
      "text/plain": [
       "array([[777780.75]], dtype=float32)"
      ]
     },
     "execution_count": 95,
     "metadata": {},
     "output_type": "execute_result"
    }
   ],
   "source": [
    "#random predictions\n",
    "regressor.predict(np.array([[0,1,0,987449,199762.9,159753.3]]))"
   ]
  },
  {
   "cell_type": "code",
   "execution_count": 96,
   "metadata": {},
   "outputs": [],
   "source": [
    "from sklearn.metrics import accuracy_score,confusion_matrix\n",
    "accuracy = r2_score(y_pred,y_test)"
   ]
  },
  {
   "cell_type": "code",
   "execution_count": null,
   "metadata": {},
   "outputs": [],
   "source": []
  }
 ],
 "metadata": {
  "kernelspec": {
   "display_name": "Python 3",
   "language": "python",
   "name": "python3"
  },
  "language_info": {
   "codemirror_mode": {
    "name": "ipython",
    "version": 3
   },
   "file_extension": ".py",
   "mimetype": "text/x-python",
   "name": "python",
   "nbconvert_exporter": "python",
   "pygments_lexer": "ipython3",
   "version": "3.8.5"
  }
 },
 "nbformat": 4,
 "nbformat_minor": 4
}

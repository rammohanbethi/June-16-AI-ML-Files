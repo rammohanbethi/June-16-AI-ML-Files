{
 "cells": [
  {
   "cell_type": "code",
   "execution_count": 1,
   "metadata": {},
   "outputs": [],
   "source": [
    "import numpy as np\n",
    "import pandas as pd\n",
    "import matplotlib.pyplot as plt"
   ]
  },
  {
   "cell_type": "code",
   "execution_count": 2,
   "metadata": {},
   "outputs": [],
   "source": [
    "dataset = pd.read_csv('bikebuyer1.csv')"
   ]
  },
  {
   "cell_type": "code",
   "execution_count": 3,
   "metadata": {},
   "outputs": [
    {
     "data": {
      "text/html": [
       "<div>\n",
       "<style scoped>\n",
       "    .dataframe tbody tr th:only-of-type {\n",
       "        vertical-align: middle;\n",
       "    }\n",
       "\n",
       "    .dataframe tbody tr th {\n",
       "        vertical-align: top;\n",
       "    }\n",
       "\n",
       "    .dataframe thead th {\n",
       "        text-align: right;\n",
       "    }\n",
       "</style>\n",
       "<table border=\"1\" class=\"dataframe\">\n",
       "  <thead>\n",
       "    <tr style=\"text-align: right;\">\n",
       "      <th></th>\n",
       "      <th>ID</th>\n",
       "      <th>Marital Status</th>\n",
       "      <th>Gender</th>\n",
       "      <th>Yearly Income</th>\n",
       "      <th>Children</th>\n",
       "      <th>Education</th>\n",
       "      <th>Occupation</th>\n",
       "      <th>Home Owner</th>\n",
       "      <th>Cars</th>\n",
       "      <th>Commute Distance</th>\n",
       "      <th>Region</th>\n",
       "      <th>Age</th>\n",
       "      <th>Bike Buyer</th>\n",
       "    </tr>\n",
       "  </thead>\n",
       "  <tbody>\n",
       "    <tr>\n",
       "      <th>0</th>\n",
       "      <td>22711.0</td>\n",
       "      <td>Single</td>\n",
       "      <td>Male</td>\n",
       "      <td>30000</td>\n",
       "      <td>0.0</td>\n",
       "      <td>Partial College</td>\n",
       "      <td>Clerical</td>\n",
       "      <td>No</td>\n",
       "      <td>1</td>\n",
       "      <td>1.0</td>\n",
       "      <td>Europe</td>\n",
       "      <td>33</td>\n",
       "      <td>Yes</td>\n",
       "    </tr>\n",
       "    <tr>\n",
       "      <th>1</th>\n",
       "      <td>13555.0</td>\n",
       "      <td>Married</td>\n",
       "      <td>Female</td>\n",
       "      <td>40000</td>\n",
       "      <td>0.0</td>\n",
       "      <td>Graduate Degree</td>\n",
       "      <td>Clerical</td>\n",
       "      <td>Yes</td>\n",
       "      <td>0</td>\n",
       "      <td>1.0</td>\n",
       "      <td>Europe</td>\n",
       "      <td>37</td>\n",
       "      <td>Yes</td>\n",
       "    </tr>\n",
       "    <tr>\n",
       "      <th>2</th>\n",
       "      <td>NaN</td>\n",
       "      <td>Married</td>\n",
       "      <td>Male</td>\n",
       "      <td>160000</td>\n",
       "      <td>5.0</td>\n",
       "      <td>Partial College</td>\n",
       "      <td>Professional</td>\n",
       "      <td>No</td>\n",
       "      <td>3</td>\n",
       "      <td>2.0</td>\n",
       "      <td>Europe</td>\n",
       "      <td>55</td>\n",
       "      <td>No</td>\n",
       "    </tr>\n",
       "    <tr>\n",
       "      <th>3</th>\n",
       "      <td>2.0</td>\n",
       "      <td>Single</td>\n",
       "      <td>Male</td>\n",
       "      <td>160000</td>\n",
       "      <td>0.0</td>\n",
       "      <td>Graduate Degree</td>\n",
       "      <td>Management</td>\n",
       "      <td>Yes</td>\n",
       "      <td>2</td>\n",
       "      <td>5.0</td>\n",
       "      <td>Pacific</td>\n",
       "      <td>47</td>\n",
       "      <td>No</td>\n",
       "    </tr>\n",
       "    <tr>\n",
       "      <th>4</th>\n",
       "      <td>25410.0</td>\n",
       "      <td>NaN</td>\n",
       "      <td>Female</td>\n",
       "      <td>70000</td>\n",
       "      <td>2.0</td>\n",
       "      <td>Bachelors</td>\n",
       "      <td>Skilled Manual</td>\n",
       "      <td>No</td>\n",
       "      <td>1</td>\n",
       "      <td>1.0</td>\n",
       "      <td>North America</td>\n",
       "      <td>38</td>\n",
       "      <td>Yes</td>\n",
       "    </tr>\n",
       "    <tr>\n",
       "      <th>...</th>\n",
       "      <td>...</td>\n",
       "      <td>...</td>\n",
       "      <td>...</td>\n",
       "      <td>...</td>\n",
       "      <td>...</td>\n",
       "      <td>...</td>\n",
       "      <td>...</td>\n",
       "      <td>...</td>\n",
       "      <td>...</td>\n",
       "      <td>...</td>\n",
       "      <td>...</td>\n",
       "      <td>...</td>\n",
       "      <td>...</td>\n",
       "    </tr>\n",
       "    <tr>\n",
       "      <th>6992</th>\n",
       "      <td>22820.0</td>\n",
       "      <td>Married</td>\n",
       "      <td>Male</td>\n",
       "      <td>100000</td>\n",
       "      <td>4.0</td>\n",
       "      <td>High School</td>\n",
       "      <td>Professional</td>\n",
       "      <td>Yes</td>\n",
       "      <td>3</td>\n",
       "      <td>1.0</td>\n",
       "      <td>Europe</td>\n",
       "      <td>52</td>\n",
       "      <td>No</td>\n",
       "    </tr>\n",
       "    <tr>\n",
       "      <th>6993</th>\n",
       "      <td>22821.0</td>\n",
       "      <td>Married</td>\n",
       "      <td>Female</td>\n",
       "      <td>130000</td>\n",
       "      <td>4.0</td>\n",
       "      <td>Partial College</td>\n",
       "      <td>Professional</td>\n",
       "      <td>Yes</td>\n",
       "      <td>4</td>\n",
       "      <td>2.0</td>\n",
       "      <td>Europe</td>\n",
       "      <td>52</td>\n",
       "      <td>No</td>\n",
       "    </tr>\n",
       "    <tr>\n",
       "      <th>6994</th>\n",
       "      <td>22823.0</td>\n",
       "      <td>Married</td>\n",
       "      <td>Female</td>\n",
       "      <td>160000</td>\n",
       "      <td>5.0</td>\n",
       "      <td>Bachelors</td>\n",
       "      <td>Management</td>\n",
       "      <td>Yes</td>\n",
       "      <td>2</td>\n",
       "      <td>1.0</td>\n",
       "      <td>Europe</td>\n",
       "      <td>53</td>\n",
       "      <td>No</td>\n",
       "    </tr>\n",
       "    <tr>\n",
       "      <th>6995</th>\n",
       "      <td>22825.0</td>\n",
       "      <td>Single</td>\n",
       "      <td>Female</td>\n",
       "      <td>120000</td>\n",
       "      <td>5.0</td>\n",
       "      <td>Partial College</td>\n",
       "      <td>Professional</td>\n",
       "      <td>Yes</td>\n",
       "      <td>3</td>\n",
       "      <td>1.0</td>\n",
       "      <td>Europe</td>\n",
       "      <td>54</td>\n",
       "      <td>No</td>\n",
       "    </tr>\n",
       "    <tr>\n",
       "      <th>6996</th>\n",
       "      <td>22826.0</td>\n",
       "      <td>Married</td>\n",
       "      <td>Male</td>\n",
       "      <td>130000</td>\n",
       "      <td>5.0</td>\n",
       "      <td>High School</td>\n",
       "      <td>Professional</td>\n",
       "      <td>Yes</td>\n",
       "      <td>3</td>\n",
       "      <td>2.0</td>\n",
       "      <td>Europe</td>\n",
       "      <td>54</td>\n",
       "      <td>No</td>\n",
       "    </tr>\n",
       "  </tbody>\n",
       "</table>\n",
       "<p>6997 rows × 13 columns</p>\n",
       "</div>"
      ],
      "text/plain": [
       "           ID Marital Status  Gender  Yearly Income  Children  \\\n",
       "0     22711.0         Single    Male          30000       0.0   \n",
       "1     13555.0        Married  Female          40000       0.0   \n",
       "2         NaN        Married    Male         160000       5.0   \n",
       "3         2.0         Single    Male         160000       0.0   \n",
       "4     25410.0            NaN  Female          70000       2.0   \n",
       "...       ...            ...     ...            ...       ...   \n",
       "6992  22820.0        Married    Male         100000       4.0   \n",
       "6993  22821.0        Married  Female         130000       4.0   \n",
       "6994  22823.0        Married  Female         160000       5.0   \n",
       "6995  22825.0         Single  Female         120000       5.0   \n",
       "6996  22826.0        Married    Male         130000       5.0   \n",
       "\n",
       "            Education      Occupation Home Owner  Cars  Commute Distance  \\\n",
       "0     Partial College        Clerical         No     1               1.0   \n",
       "1     Graduate Degree        Clerical        Yes     0               1.0   \n",
       "2     Partial College    Professional         No     3               2.0   \n",
       "3     Graduate Degree      Management        Yes     2               5.0   \n",
       "4           Bachelors  Skilled Manual         No     1               1.0   \n",
       "...               ...             ...        ...   ...               ...   \n",
       "6992      High School    Professional        Yes     3               1.0   \n",
       "6993  Partial College    Professional        Yes     4               2.0   \n",
       "6994        Bachelors      Management        Yes     2               1.0   \n",
       "6995  Partial College    Professional        Yes     3               1.0   \n",
       "6996      High School    Professional        Yes     3               2.0   \n",
       "\n",
       "             Region  Age Bike Buyer  \n",
       "0            Europe   33        Yes  \n",
       "1            Europe   37        Yes  \n",
       "2            Europe   55         No  \n",
       "3           Pacific   47         No  \n",
       "4     North America   38        Yes  \n",
       "...             ...  ...        ...  \n",
       "6992         Europe   52         No  \n",
       "6993         Europe   52         No  \n",
       "6994         Europe   53         No  \n",
       "6995         Europe   54         No  \n",
       "6996         Europe   54         No  \n",
       "\n",
       "[6997 rows x 13 columns]"
      ]
     },
     "execution_count": 3,
     "metadata": {},
     "output_type": "execute_result"
    }
   ],
   "source": [
    "dataset"
   ]
  },
  {
   "cell_type": "code",
   "execution_count": 4,
   "metadata": {},
   "outputs": [
    {
     "name": "stdout",
     "output_type": "stream",
     "text": [
      "<class 'pandas.core.frame.DataFrame'>\n",
      "RangeIndex: 6997 entries, 0 to 6996\n",
      "Data columns (total 13 columns):\n",
      " #   Column            Non-Null Count  Dtype  \n",
      "---  ------            --------------  -----  \n",
      " 0   ID                6996 non-null   float64\n",
      " 1   Marital Status    6981 non-null   object \n",
      " 2   Gender            6968 non-null   object \n",
      " 3   Yearly Income     6997 non-null   int64  \n",
      " 4   Children          6979 non-null   float64\n",
      " 5   Education         6997 non-null   object \n",
      " 6   Occupation        6997 non-null   object \n",
      " 7   Home Owner        6997 non-null   object \n",
      " 8   Cars              6997 non-null   int64  \n",
      " 9   Commute Distance  6968 non-null   float64\n",
      " 10  Region            6997 non-null   object \n",
      " 11  Age               6997 non-null   int64  \n",
      " 12  Bike Buyer        6997 non-null   object \n",
      "dtypes: float64(3), int64(3), object(7)\n",
      "memory usage: 710.8+ KB\n"
     ]
    }
   ],
   "source": [
    "dataset.info()"
   ]
  },
  {
   "cell_type": "code",
   "execution_count": 5,
   "metadata": {
    "scrolled": false
   },
   "outputs": [
    {
     "data": {
      "text/plain": [
       "ID                   1\n",
       "Marital Status      16\n",
       "Gender              29\n",
       "Yearly Income        0\n",
       "Children            18\n",
       "Education            0\n",
       "Occupation           0\n",
       "Home Owner           0\n",
       "Cars                 0\n",
       "Commute Distance    29\n",
       "Region               0\n",
       "Age                  0\n",
       "Bike Buyer           0\n",
       "dtype: int64"
      ]
     },
     "execution_count": 5,
     "metadata": {},
     "output_type": "execute_result"
    }
   ],
   "source": [
    "dataset.isnull().any()\n",
    "dataset.isnull().sum()"
   ]
  },
  {
   "cell_type": "code",
   "execution_count": 6,
   "metadata": {},
   "outputs": [
    {
     "data": {
      "text/plain": [
       "array(['Single', 'Married', nan], dtype=object)"
      ]
     },
     "execution_count": 6,
     "metadata": {},
     "output_type": "execute_result"
    }
   ],
   "source": [
    "dataset['Marital Status'].unique()"
   ]
  },
  {
   "cell_type": "code",
   "execution_count": 7,
   "metadata": {},
   "outputs": [],
   "source": [
    "p=dataset['Marital Status'].value_counts()"
   ]
  },
  {
   "cell_type": "code",
   "execution_count": 8,
   "metadata": {
    "scrolled": true
   },
   "outputs": [
    {
     "data": {
      "text/plain": [
       "4133"
      ]
     },
     "execution_count": 8,
     "metadata": {},
     "output_type": "execute_result"
    }
   ],
   "source": [
    "p[0]"
   ]
  },
  {
   "cell_type": "code",
   "execution_count": 9,
   "metadata": {},
   "outputs": [
    {
     "data": {
      "text/plain": [
       "Male      3527\n",
       "Female    3441\n",
       "Name: Gender, dtype: int64"
      ]
     },
     "execution_count": 9,
     "metadata": {},
     "output_type": "execute_result"
    }
   ],
   "source": [
    "dataset['Gender'].value_counts()"
   ]
  },
  {
   "cell_type": "code",
   "execution_count": 10,
   "metadata": {},
   "outputs": [],
   "source": [
    "dataset['Marital Status'].fillna(dataset['Marital Status'].mode()[0],inplace=True)\n",
    "dataset['Gender'].fillna(dataset['Gender'].mode()[0],inplace=True)\n",
    "dataset['Children'].fillna(dataset['Children'].median(),inplace=True)\n",
    "dataset['Commute Distance'].fillna(dataset['Commute Distance'].median(),inplace=True)"
   ]
  },
  {
   "cell_type": "code",
   "execution_count": 11,
   "metadata": {
    "scrolled": true
   },
   "outputs": [
    {
     "data": {
      "text/plain": [
       "ID                   True\n",
       "Marital Status      False\n",
       "Gender              False\n",
       "Yearly Income       False\n",
       "Children            False\n",
       "Education           False\n",
       "Occupation          False\n",
       "Home Owner          False\n",
       "Cars                False\n",
       "Commute Distance    False\n",
       "Region              False\n",
       "Age                 False\n",
       "Bike Buyer          False\n",
       "dtype: bool"
      ]
     },
     "execution_count": 11,
     "metadata": {},
     "output_type": "execute_result"
    }
   ],
   "source": [
    "dataset.isnull().any()"
   ]
  },
  {
   "cell_type": "code",
   "execution_count": 12,
   "metadata": {},
   "outputs": [],
   "source": [
    "from sklearn.preprocessing import LabelEncoder\n",
    "le=LabelEncoder()"
   ]
  },
  {
   "cell_type": "code",
   "execution_count": 13,
   "metadata": {},
   "outputs": [],
   "source": [
    "dataset['Marital Status']=le.fit_transform(dataset['Marital Status'])\n",
    "dataset['Gender']=le.fit_transform(dataset['Gender'])\n",
    "dataset['Education']=le.fit_transform(dataset['Education'])\n",
    "dataset['Occupation']=le.fit_transform(dataset['Occupation'])\n",
    "dataset['Home Owner']=le.fit_transform(dataset['Home Owner'])\n",
    "dataset['Region']=le.fit_transform(dataset['Region'])\n",
    "dataset['Bike Buyer']=le.fit_transform(dataset['Bike Buyer'])"
   ]
  },
  {
   "cell_type": "code",
   "execution_count": 14,
   "metadata": {},
   "outputs": [
    {
     "name": "stdout",
     "output_type": "stream",
     "text": [
      "<class 'pandas.core.frame.DataFrame'>\n",
      "RangeIndex: 6997 entries, 0 to 6996\n",
      "Data columns (total 13 columns):\n",
      " #   Column            Non-Null Count  Dtype  \n",
      "---  ------            --------------  -----  \n",
      " 0   ID                6996 non-null   float64\n",
      " 1   Marital Status    6997 non-null   int32  \n",
      " 2   Gender            6997 non-null   int32  \n",
      " 3   Yearly Income     6997 non-null   int64  \n",
      " 4   Children          6997 non-null   float64\n",
      " 5   Education         6997 non-null   int32  \n",
      " 6   Occupation        6997 non-null   int32  \n",
      " 7   Home Owner        6997 non-null   int32  \n",
      " 8   Cars              6997 non-null   int64  \n",
      " 9   Commute Distance  6997 non-null   float64\n",
      " 10  Region            6997 non-null   int32  \n",
      " 11  Age               6997 non-null   int64  \n",
      " 12  Bike Buyer        6997 non-null   int32  \n",
      "dtypes: float64(3), int32(7), int64(3)\n",
      "memory usage: 519.4 KB\n"
     ]
    }
   ],
   "source": [
    "dataset.info()"
   ]
  },
  {
   "cell_type": "code",
   "execution_count": 15,
   "metadata": {},
   "outputs": [
    {
     "data": {
      "text/plain": [
       "<matplotlib.axes._subplots.AxesSubplot at 0x15cddf8d9a0>"
      ]
     },
     "execution_count": 15,
     "metadata": {},
     "output_type": "execute_result"
    },
    {
     "data": {
      "image/png": "[encoded data removed]",
      "text/plain": [
       "<Figure size 432x288 with 2 Axes>"
      ]
     },
     "metadata": {
      "needs_background": "light"
     },
     "output_type": "display_data"
    }
   ],
   "source": [
    "import seaborn as sns\n",
    "sns.heatmap(dataset.corr(),annot=True,vmin=-1,vmax=1,center=0)"
   ]
  },
  {
   "cell_type": "code",
   "execution_count": 16,
   "metadata": {},
   "outputs": [],
   "source": [
    "dataset.drop(['ID','Education'],axis=1,inplace=True)"
   ]
  },
  {
   "cell_type": "code",
   "execution_count": 17,
   "metadata": {},
   "outputs": [
    {
     "data": {
      "text/plain": [
       "(6997, 11)"
      ]
     },
     "execution_count": 17,
     "metadata": {},
     "output_type": "execute_result"
    }
   ],
   "source": [
    "dataset.shape"
   ]
  },
  {
   "cell_type": "code",
   "execution_count": 18,
   "metadata": {
    "scrolled": true
   },
   "outputs": [
    {
     "data": {
      "text/plain": [
       "3    2031\n",
       "4    1748\n",
       "1    1265\n",
       "2     990\n",
       "0     963\n",
       "Name: Occupation, dtype: int64"
      ]
     },
     "execution_count": 18,
     "metadata": {},
     "output_type": "execute_result"
    }
   ],
   "source": [
    "dataset['Occupation'].value_counts()"
   ]
  },
  {
   "cell_type": "code",
   "execution_count": 19,
   "metadata": {},
   "outputs": [
    {
     "data": {
      "text/plain": [
       "1    3728\n",
       "0    2096\n",
       "2    1173\n",
       "Name: Region, dtype: int64"
      ]
     },
     "execution_count": 19,
     "metadata": {},
     "output_type": "execute_result"
    }
   ],
   "source": [
    "dataset['Region'].value_counts()"
   ]
  },
  {
   "cell_type": "code",
   "execution_count": 20,
   "metadata": {},
   "outputs": [
    {
     "data": {
      "text/plain": [
       "1    3556\n",
       "0    3441\n",
       "Name: Gender, dtype: int64"
      ]
     },
     "execution_count": 20,
     "metadata": {},
     "output_type": "execute_result"
    }
   ],
   "source": [
    "dataset['Gender'].value_counts()"
   ]
  },
  {
   "cell_type": "code",
   "execution_count": 21,
   "metadata": {
    "scrolled": false
   },
   "outputs": [
    {
     "data": {
      "text/html": [
       "<div>\n",
       "<style scoped>\n",
       "    .dataframe tbody tr th:only-of-type {\n",
       "        vertical-align: middle;\n",
       "    }\n",
       "\n",
       "    .dataframe tbody tr th {\n",
       "        vertical-align: top;\n",
       "    }\n",
       "\n",
       "    .dataframe thead th {\n",
       "        text-align: right;\n",
       "    }\n",
       "</style>\n",
       "<table border=\"1\" class=\"dataframe\">\n",
       "  <thead>\n",
       "    <tr style=\"text-align: right;\">\n",
       "      <th></th>\n",
       "      <th>Marital Status</th>\n",
       "      <th>Gender</th>\n",
       "      <th>Yearly Income</th>\n",
       "      <th>Children</th>\n",
       "      <th>Occupation</th>\n",
       "      <th>Home Owner</th>\n",
       "      <th>Cars</th>\n",
       "      <th>Commute Distance</th>\n",
       "      <th>Region</th>\n",
       "      <th>Age</th>\n",
       "      <th>Bike Buyer</th>\n",
       "    </tr>\n",
       "  </thead>\n",
       "  <tbody>\n",
       "    <tr>\n",
       "      <th>0</th>\n",
       "      <td>1</td>\n",
       "      <td>1</td>\n",
       "      <td>30000</td>\n",
       "      <td>0.0</td>\n",
       "      <td>0</td>\n",
       "      <td>0</td>\n",
       "      <td>1</td>\n",
       "      <td>1.0</td>\n",
       "      <td>0</td>\n",
       "      <td>33</td>\n",
       "      <td>1</td>\n",
       "    </tr>\n",
       "  </tbody>\n",
       "</table>\n",
       "</div>"
      ],
      "text/plain": [
       "   Marital Status  Gender  Yearly Income  Children  Occupation  Home Owner  \\\n",
       "0               1       1          30000       0.0           0           0   \n",
       "\n",
       "   Cars  Commute Distance  Region  Age  Bike Buyer  \n",
       "0     1               1.0       0   33           1  "
      ]
     },
     "execution_count": 21,
     "metadata": {},
     "output_type": "execute_result"
    }
   ],
   "source": [
    "dataset.head(1)"
   ]
  },
  {
   "cell_type": "code",
   "execution_count": 23,
   "metadata": {},
   "outputs": [
    {
     "data": {
      "text/html": [
       "<div>\n",
       "<style scoped>\n",
       "    .dataframe tbody tr th:only-of-type {\n",
       "        vertical-align: middle;\n",
       "    }\n",
       "\n",
       "    .dataframe tbody tr th {\n",
       "        vertical-align: top;\n",
       "    }\n",
       "\n",
       "    .dataframe thead th {\n",
       "        text-align: right;\n",
       "    }\n",
       "</style>\n",
       "<table border=\"1\" class=\"dataframe\">\n",
       "  <thead>\n",
       "    <tr style=\"text-align: right;\">\n",
       "      <th></th>\n",
       "      <th>Marital Status</th>\n",
       "      <th>Occupation</th>\n",
       "      <th>Home Owner</th>\n",
       "      <th>Commute Distance</th>\n",
       "    </tr>\n",
       "  </thead>\n",
       "  <tbody>\n",
       "    <tr>\n",
       "      <th>0</th>\n",
       "      <td>1</td>\n",
       "      <td>0</td>\n",
       "      <td>0</td>\n",
       "      <td>1.0</td>\n",
       "    </tr>\n",
       "    <tr>\n",
       "      <th>1</th>\n",
       "      <td>0</td>\n",
       "      <td>0</td>\n",
       "      <td>1</td>\n",
       "      <td>1.0</td>\n",
       "    </tr>\n",
       "  </tbody>\n",
       "</table>\n",
       "</div>"
      ],
      "text/plain": [
       "   Marital Status  Occupation  Home Owner  Commute Distance\n",
       "0               1           0           0               1.0\n",
       "1               0           0           1               1.0"
      ]
     },
     "execution_count": 23,
     "metadata": {},
     "output_type": "execute_result"
    }
   ],
   "source": [
    "x = dataset.iloc[:,[0,4,5,7]].head(2)\n",
    "x"
   ]
  },
  {
   "cell_type": "code",
   "execution_count": 22,
   "metadata": {},
   "outputs": [
    {
     "data": {
      "text/plain": [
       "array([[1.0e+00, 1.0e+00, 3.0e+04, ..., 1.0e+00, 0.0e+00, 3.3e+01],\n",
       "       [0.0e+00, 0.0e+00, 4.0e+04, ..., 1.0e+00, 0.0e+00, 3.7e+01],\n",
       "       [0.0e+00, 1.0e+00, 1.6e+05, ..., 2.0e+00, 0.0e+00, 5.5e+01],\n",
       "       ...,\n",
       "       [0.0e+00, 0.0e+00, 1.6e+05, ..., 1.0e+00, 0.0e+00, 5.3e+01],\n",
       "       [1.0e+00, 0.0e+00, 1.2e+05, ..., 1.0e+00, 0.0e+00, 5.4e+01],\n",
       "       [0.0e+00, 1.0e+00, 1.3e+05, ..., 2.0e+00, 0.0e+00, 5.4e+01]])"
      ]
     },
     "execution_count": 22,
     "metadata": {},
     "output_type": "execute_result"
    }
   ],
   "source": [
    "#input\n",
    "x = dataset.iloc[:,0:10].values\n",
    "x"
   ]
  },
  {
   "cell_type": "code",
   "execution_count": 23,
   "metadata": {},
   "outputs": [
    {
     "data": {
      "text/plain": [
       "array([[1],\n",
       "       [1],\n",
       "       [0],\n",
       "       ...,\n",
       "       [0],\n",
       "       [0],\n",
       "       [0]])"
      ]
     },
     "execution_count": 23,
     "metadata": {},
     "output_type": "execute_result"
    }
   ],
   "source": [
    "#target\n",
    "y=dataset.iloc[:,-1:].values\n",
    "y"
   ]
  },
  {
   "cell_type": "code",
   "execution_count": 24,
   "metadata": {},
   "outputs": [],
   "source": [
    "from sklearn.preprocessing import OneHotEncoder\n",
    "oh = OneHotEncoder()"
   ]
  },
  {
   "cell_type": "code",
   "execution_count": 25,
   "metadata": {},
   "outputs": [],
   "source": [
    "z=oh.fit_transform(x[:,4:5]).toarray()\n",
    "t=oh.fit_transform(x[:,8:9]).toarray()"
   ]
  },
  {
   "cell_type": "code",
   "execution_count": 26,
   "metadata": {},
   "outputs": [
    {
     "data": {
      "text/plain": [
       "array([[1., 0., 0., 0., 0.],\n",
       "       [1., 0., 0., 0., 0.],\n",
       "       [0., 0., 0., 1., 0.],\n",
       "       ...,\n",
       "       [0., 1., 0., 0., 0.],\n",
       "       [0., 0., 0., 1., 0.],\n",
       "       [0., 0., 0., 1., 0.]])"
      ]
     },
     "execution_count": 26,
     "metadata": {},
     "output_type": "execute_result"
    }
   ],
   "source": [
    "z"
   ]
  },
  {
   "cell_type": "code",
   "execution_count": 27,
   "metadata": {},
   "outputs": [
    {
     "data": {
      "text/plain": [
       "array([[1., 0., 0.],\n",
       "       [1., 0., 0.],\n",
       "       [1., 0., 0.],\n",
       "       ...,\n",
       "       [1., 0., 0.],\n",
       "       [1., 0., 0.],\n",
       "       [1., 0., 0.]])"
      ]
     },
     "execution_count": 27,
     "metadata": {},
     "output_type": "execute_result"
    }
   ],
   "source": [
    "t"
   ]
  },
  {
   "cell_type": "code",
   "execution_count": 28,
   "metadata": {},
   "outputs": [],
   "source": [
    "x=np.delete(x,[4,8],axis=1)"
   ]
  },
  {
   "cell_type": "code",
   "execution_count": 29,
   "metadata": {},
   "outputs": [
    {
     "data": {
      "text/plain": [
       "(6997, 8)"
      ]
     },
     "execution_count": 29,
     "metadata": {},
     "output_type": "execute_result"
    }
   ],
   "source": [
    "x.shape"
   ]
  },
  {
   "cell_type": "code",
   "execution_count": 30,
   "metadata": {},
   "outputs": [],
   "source": [
    "#region,occupation\n",
    "x=np.concatenate((t,z,x),axis=1)"
   ]
  },
  {
   "cell_type": "code",
   "execution_count": 31,
   "metadata": {},
   "outputs": [
    {
     "data": {
      "text/plain": [
       "(6997, 16)"
      ]
     },
     "execution_count": 31,
     "metadata": {},
     "output_type": "execute_result"
    }
   ],
   "source": [
    "x.shape"
   ]
  },
  {
   "cell_type": "code",
   "execution_count": 32,
   "metadata": {},
   "outputs": [],
   "source": [
    "from sklearn.model_selection import train_test_split\n",
    "x_train,x_test,y_train,y_test=train_test_split(x,y,test_size=0.2,random_state=0)"
   ]
  },
  {
   "cell_type": "code",
   "execution_count": 33,
   "metadata": {},
   "outputs": [
    {
     "data": {
      "text/plain": [
       "(5597, 16)"
      ]
     },
     "execution_count": 33,
     "metadata": {},
     "output_type": "execute_result"
    }
   ],
   "source": [
    "x_train.shape"
   ]
  },
  {
   "cell_type": "code",
   "execution_count": 34,
   "metadata": {},
   "outputs": [
    {
     "data": {
      "text/plain": [
       "(1400, 16)"
      ]
     },
     "execution_count": 34,
     "metadata": {},
     "output_type": "execute_result"
    }
   ],
   "source": [
    "x_test.shape"
   ]
  },
  {
   "cell_type": "code",
   "execution_count": 35,
   "metadata": {},
   "outputs": [
    {
     "data": {
      "text/plain": [
       "(5597, 1)"
      ]
     },
     "execution_count": 35,
     "metadata": {},
     "output_type": "execute_result"
    }
   ],
   "source": [
    "y_train.shape"
   ]
  },
  {
   "cell_type": "code",
   "execution_count": 36,
   "metadata": {},
   "outputs": [
    {
     "data": {
      "text/plain": [
       "(1400, 1)"
      ]
     },
     "execution_count": 36,
     "metadata": {},
     "output_type": "execute_result"
    }
   ],
   "source": [
    "y_test.shape"
   ]
  },
  {
   "cell_type": "code",
   "execution_count": 37,
   "metadata": {},
   "outputs": [],
   "source": [
    "from sklearn.preprocessing import StandardScaler\n",
    "sc=StandardScaler()\n",
    "x_train = sc.fit_transform(x_train)\n",
    "x_test = sc.fit_transform(x_test)"
   ]
  },
  {
   "cell_type": "code",
   "execution_count": 38,
   "metadata": {
    "scrolled": true
   },
   "outputs": [
    {
     "data": {
      "text/plain": [
       "(5597, 16)"
      ]
     },
     "execution_count": 38,
     "metadata": {},
     "output_type": "execute_result"
    }
   ],
   "source": [
    "x_train.shape"
   ]
  },
  {
   "cell_type": "code",
   "execution_count": 39,
   "metadata": {},
   "outputs": [],
   "source": [
    "#model building libraries\n",
    "from tensorflow.keras.layers import Dense\n",
    "from tensorflow.keras.models import Sequential"
   ]
  },
  {
   "cell_type": "code",
   "execution_count": 102,
   "metadata": {},
   "outputs": [],
   "source": [
    "classifier = Sequential()"
   ]
  },
  {
   "cell_type": "code",
   "execution_count": 103,
   "metadata": {},
   "outputs": [],
   "source": [
    "#input layer\n",
    "classifier.add(Dense(units=16, kernel_initializer='he_uniform',activation='relu'))"
   ]
  },
  {
   "cell_type": "code",
   "execution_count": 104,
   "metadata": {},
   "outputs": [],
   "source": [
    "#hidden layer\n",
    "classifier.add(Dense(units=32, kernel_initializer='he_uniform',activation='relu'))\n",
    "classifier.add(Dense(units=25, kernel_initializer='glorot_uniform',activation='relu'))"
   ]
  },
  {
   "cell_type": "code",
   "execution_count": 116,
   "metadata": {},
   "outputs": [],
   "source": [
    "#output layer\n",
    "classifier.add(Dense(units=1,kernel_initializer='he_uniform',activation='tanh'))"
   ]
  },
  {
   "cell_type": "code",
   "execution_count": 117,
   "metadata": {},
   "outputs": [],
   "source": [
    "classifier.compile(optimizer='adadelta',loss='binary_crossentropy',metrics=['accuracy'])"
   ]
  },
  {
   "cell_type": "code",
   "execution_count": 118,
   "metadata": {
    "scrolled": true
   },
   "outputs": [
    {
     "name": "stdout",
     "output_type": "stream",
     "text": [
      "Epoch 1/100\n",
      "175/175 [==============================] - 1s 2ms/step - loss: 2.2122 - accuracy: 0.8566\n",
      "Epoch 2/100\n",
      "175/175 [==============================] - 0s 2ms/step - loss: 2.1921 - accuracy: 0.8579\n",
      "Epoch 3/100\n",
      "175/175 [==============================] - 0s 2ms/step - loss: 2.2644 - accuracy: 0.8532\n",
      "Epoch 4/100\n",
      "175/175 [==============================] - 0s 2ms/step - loss: 2.2216 - accuracy: 0.8560\n",
      "Epoch 5/100\n",
      "175/175 [==============================] - 0s 2ms/step - loss: 2.3689 - accuracy: 0.8464\n",
      "Epoch 6/100\n",
      "175/175 [==============================] - 0s 2ms/step - loss: 2.2761 - accuracy: 0.8524\n",
      "Epoch 7/100\n",
      "175/175 [==============================] - 0s 2ms/step - loss: 2.3120 - accuracy: 0.8501\n",
      "Epoch 8/100\n",
      "175/175 [==============================] - 0s 2ms/step - loss: 2.1966 - accuracy: 0.8576\n",
      "Epoch 9/100\n",
      "175/175 [==============================] - 0s 2ms/step - loss: 2.1597 - accuracy: 0.8600\n",
      "Epoch 10/100\n",
      "175/175 [==============================] - 0s 2ms/step - loss: 2.1696 - accuracy: 0.8593\n",
      "Epoch 11/100\n",
      "175/175 [==============================] - 0s 2ms/step - loss: 2.2562 - accuracy: 0.8537\n",
      "Epoch 12/100\n",
      "175/175 [==============================] - 0s 2ms/step - loss: 2.1479 - accuracy: 0.8607\n",
      "Epoch 13/100\n",
      "175/175 [==============================] - 0s 2ms/step - loss: 2.4636 - accuracy: 0.8403\n",
      "Epoch 14/100\n",
      "175/175 [==============================] - 0s 2ms/step - loss: 2.2040 - accuracy: 0.8571\n",
      "Epoch 15/100\n",
      "175/175 [==============================] - 0s 2ms/step - loss: 2.1171 - accuracy: 0.8628\n",
      "Epoch 16/100\n",
      "175/175 [==============================] - 0s 2ms/step - loss: 2.1611 - accuracy: 0.8599\n",
      "Epoch 17/100\n",
      "175/175 [==============================] - 0s 2ms/step - loss: 2.2296 - accuracy: 0.8555\n",
      "Epoch 18/100\n",
      "175/175 [==============================] - 0s 2ms/step - loss: 2.2654 - accuracy: 0.8531\n",
      "Epoch 19/100\n",
      "175/175 [==============================] - 0s 2ms/step - loss: 2.1685 - accuracy: 0.8594\n",
      "Epoch 20/100\n",
      "175/175 [==============================] - 0s 2ms/step - loss: 2.4046 - accuracy: 0.8441\n",
      "Epoch 21/100\n",
      "175/175 [==============================] - 0s 2ms/step - loss: 2.1649 - accuracy: 0.8596\n",
      "Epoch 22/100\n",
      "175/175 [==============================] - 0s 2ms/step - loss: 2.2147 - accuracy: 0.8564\n",
      "Epoch 23/100\n",
      "175/175 [==============================] - 0s 2ms/step - loss: 2.1622 - accuracy: 0.8598\n",
      "Epoch 24/100\n",
      "175/175 [==============================] - 0s 2ms/step - loss: 2.2074 - accuracy: 0.8569\n",
      "Epoch 25/100\n",
      "175/175 [==============================] - 0s 2ms/step - loss: 2.2657 - accuracy: 0.8531\n",
      "Epoch 26/100\n",
      "175/175 [==============================] - 0s 2ms/step - loss: 2.2158 - accuracy: 0.8563\n",
      "Epoch 27/100\n",
      "175/175 [==============================] - 0s 2ms/step - loss: 2.1385 - accuracy: 0.8614\n",
      "Epoch 28/100\n",
      "175/175 [==============================] - 0s 2ms/step - loss: 2.2267 - accuracy: 0.8556\n",
      "Epoch 29/100\n",
      "175/175 [==============================] - 0s 2ms/step - loss: 2.1614 - accuracy: 0.8599\n",
      "Epoch 30/100\n",
      "175/175 [==============================] - 0s 2ms/step - loss: 2.2168 - accuracy: 0.8563\n",
      "Epoch 31/100\n",
      "175/175 [==============================] - 0s 2ms/step - loss: 2.1395 - accuracy: 0.8613\n",
      "Epoch 32/100\n",
      "175/175 [==============================] - 0s 2ms/step - loss: 2.2542 - accuracy: 0.8539\n",
      "Epoch 33/100\n",
      "175/175 [==============================] - 0s 2ms/step - loss: 2.1802 - accuracy: 0.8587\n",
      "Epoch 34/100\n",
      "175/175 [==============================] - 0s 2ms/step - loss: 2.3746 - accuracy: 0.8461\n",
      "Epoch 35/100\n",
      "175/175 [==============================] - 0s 2ms/step - loss: 2.1701 - accuracy: 0.8593\n",
      "Epoch 36/100\n",
      "175/175 [==============================] - 0s 2ms/step - loss: 2.1772 - accuracy: 0.8589\n",
      "Epoch 37/100\n",
      "175/175 [==============================] - 0s 2ms/step - loss: 2.1688 - accuracy: 0.8594\n",
      "Epoch 38/100\n",
      "175/175 [==============================] - 0s 2ms/step - loss: 2.2157 - accuracy: 0.8564\n",
      "Epoch 39/100\n",
      "175/175 [==============================] - 0s 2ms/step - loss: 2.1692 - accuracy: 0.8594\n",
      "Epoch 40/100\n",
      "175/175 [==============================] - 0s 2ms/step - loss: 2.2160 - accuracy: 0.8563\n",
      "Epoch 41/100\n",
      "175/175 [==============================] - 0s 2ms/step - loss: 2.2144 - accuracy: 0.8564\n",
      "Epoch 42/100\n",
      "175/175 [==============================] - 0s 2ms/step - loss: 2.1599 - accuracy: 0.8600\n",
      "Epoch 43/100\n",
      "175/175 [==============================] - 0s 2ms/step - loss: 2.2610 - accuracy: 0.8534\n",
      "Epoch 44/100\n",
      "175/175 [==============================] - 0s 2ms/step - loss: 2.1726 - accuracy: 0.8592\n",
      "Epoch 45/100\n",
      "175/175 [==============================] - 0s 2ms/step - loss: 2.2286 - accuracy: 0.8555\n",
      "Epoch 46/100\n",
      "175/175 [==============================] - 0s 2ms/step - loss: 2.2046 - accuracy: 0.8571\n",
      "Epoch 47/100\n",
      "175/175 [==============================] - 0s 2ms/step - loss: 2.2194 - accuracy: 0.8561\n",
      "Epoch 48/100\n",
      "175/175 [==============================] - 0s 2ms/step - loss: 2.1682 - accuracy: 0.8594\n",
      "Epoch 49/100\n",
      "175/175 [==============================] - 0s 2ms/step - loss: 2.1468 - accuracy: 0.8608\n",
      "Epoch 50/100\n",
      "175/175 [==============================] - 0s 2ms/step - loss: 2.1213 - accuracy: 0.8625\n",
      "Epoch 51/100\n",
      "175/175 [==============================] - 0s 2ms/step - loss: 2.3199 - accuracy: 0.8496\n",
      "Epoch 52/100\n",
      "175/175 [==============================] - 0s 2ms/step - loss: 2.2468 - accuracy: 0.8543\n",
      "Epoch 53/100\n",
      "175/175 [==============================] - 0s 2ms/step - loss: 2.1789 - accuracy: 0.8587\n",
      "Epoch 54/100\n",
      "175/175 [==============================] - 0s 2ms/step - loss: 2.2495 - accuracy: 0.8542\n",
      "Epoch 55/100\n",
      "175/175 [==============================] - 0s 2ms/step - loss: 2.1619 - accuracy: 0.8598\n",
      "Epoch 56/100\n",
      "175/175 [==============================] - 0s 2ms/step - loss: 2.2837 - accuracy: 0.8519: 0s - loss: 2.3860 - accura\n",
      "Epoch 57/100\n",
      "175/175 [==============================] - 0s 2ms/step - loss: 2.3738 - accuracy: 0.8461\n",
      "Epoch 58/100\n",
      "175/175 [==============================] - 0s 2ms/step - loss: 2.2715 - accuracy: 0.8527\n",
      "Epoch 59/100\n",
      "175/175 [==============================] - 0s 2ms/step - loss: 2.3382 - accuracy: 0.8484\n",
      "Epoch 60/100\n",
      "175/175 [==============================] - 0s 2ms/step - loss: 2.2423 - accuracy: 0.8546\n",
      "Epoch 61/100\n",
      "175/175 [==============================] - 0s 2ms/step - loss: 2.1634 - accuracy: 0.8597\n",
      "Epoch 62/100\n",
      "175/175 [==============================] - 0s 2ms/step - loss: 2.3923 - accuracy: 0.8449\n",
      "Epoch 63/100\n",
      "175/175 [==============================] - 0s 2ms/step - loss: 2.2875 - accuracy: 0.8517\n",
      "Epoch 64/100\n",
      "175/175 [==============================] - 0s 2ms/step - loss: 2.3326 - accuracy: 0.8488\n",
      "Epoch 65/100\n",
      "175/175 [==============================] - 0s 2ms/step - loss: 2.1618 - accuracy: 0.8599\n",
      "Epoch 66/100\n",
      "175/175 [==============================] - 0s 2ms/step - loss: 2.2564 - accuracy: 0.8537\n",
      "Epoch 67/100\n",
      "175/175 [==============================] - 0s 2ms/step - loss: 2.2301 - accuracy: 0.8554\n",
      "Epoch 68/100\n",
      "175/175 [==============================] - 0s 2ms/step - loss: 2.0733 - accuracy: 0.8656\n",
      "Epoch 69/100\n",
      "175/175 [==============================] - 0s 2ms/step - loss: 2.1671 - accuracy: 0.8595\n",
      "Epoch 70/100\n",
      "175/175 [==============================] - 0s 2ms/step - loss: 2.1796 - accuracy: 0.8587\n",
      "Epoch 71/100\n",
      "175/175 [==============================] - 0s 2ms/step - loss: 2.2482 - accuracy: 0.8542\n",
      "Epoch 72/100\n",
      "175/175 [==============================] - 0s 2ms/step - loss: 2.2542 - accuracy: 0.8539\n",
      "Epoch 73/100\n",
      "175/175 [==============================] - 0s 2ms/step - loss: 2.2240 - accuracy: 0.8558\n",
      "Epoch 74/100\n",
      "175/175 [==============================] - 0s 2ms/step - loss: 2.1603 - accuracy: 0.8599\n",
      "Epoch 75/100\n",
      "175/175 [==============================] - 0s 2ms/step - loss: 2.0695 - accuracy: 0.8658\n",
      "Epoch 76/100\n",
      "175/175 [==============================] - 0s 2ms/step - loss: 2.3491 - accuracy: 0.8477\n",
      "Epoch 77/100\n",
      "175/175 [==============================] - 0s 2ms/step - loss: 2.1667 - accuracy: 0.8595\n",
      "Epoch 78/100\n",
      "175/175 [==============================] - 0s 2ms/step - loss: 2.1092 - accuracy: 0.8633\n",
      "Epoch 79/100\n",
      "175/175 [==============================] - 0s 2ms/step - loss: 2.2761 - accuracy: 0.8524\n",
      "Epoch 80/100\n",
      "175/175 [==============================] - 0s 2ms/step - loss: 2.2071 - accuracy: 0.8569\n",
      "Epoch 81/100\n"
     ]
    },
    {
     "name": "stdout",
     "output_type": "stream",
     "text": [
      "175/175 [==============================] - 0s 2ms/step - loss: 2.3425 - accuracy: 0.8481\n",
      "Epoch 82/100\n",
      "175/175 [==============================] - 0s 2ms/step - loss: 2.1438 - accuracy: 0.8610\n",
      "Epoch 83/100\n",
      "175/175 [==============================] - 0s 2ms/step - loss: 2.1825 - accuracy: 0.8585\n",
      "Epoch 84/100\n",
      "175/175 [==============================] - 0s 2ms/step - loss: 2.3399 - accuracy: 0.8483\n",
      "Epoch 85/100\n",
      "175/175 [==============================] - 0s 2ms/step - loss: 2.2581 - accuracy: 0.8536\n",
      "Epoch 86/100\n",
      "175/175 [==============================] - 0s 2ms/step - loss: 2.1169 - accuracy: 0.8628\n",
      "Epoch 87/100\n",
      "175/175 [==============================] - 0s 2ms/step - loss: 2.1879 - accuracy: 0.8582\n",
      "Epoch 88/100\n",
      "175/175 [==============================] - 0s 2ms/step - loss: 2.3380 - accuracy: 0.8484\n",
      "Epoch 89/100\n",
      "175/175 [==============================] - 0s 2ms/step - loss: 2.0604 - accuracy: 0.8664\n",
      "Epoch 90/100\n",
      "175/175 [==============================] - 0s 2ms/step - loss: 2.1755 - accuracy: 0.8590\n",
      "Epoch 91/100\n",
      "175/175 [==============================] - 0s 2ms/step - loss: 2.1853 - accuracy: 0.8583\n",
      "Epoch 92/100\n",
      "175/175 [==============================] - 0s 2ms/step - loss: 2.2965 - accuracy: 0.8511\n",
      "Epoch 93/100\n",
      "175/175 [==============================] - 0s 2ms/step - loss: 2.1712 - accuracy: 0.8592\n",
      "Epoch 94/100\n",
      "175/175 [==============================] - 0s 2ms/step - loss: 2.3347 - accuracy: 0.8486\n",
      "Epoch 95/100\n",
      "175/175 [==============================] - 0s 2ms/step - loss: 2.1832 - accuracy: 0.8585\n",
      "Epoch 96/100\n",
      "175/175 [==============================] - 0s 2ms/step - loss: 2.2231 - accuracy: 0.8559\n",
      "Epoch 97/100\n",
      "175/175 [==============================] - 0s 2ms/step - loss: 2.2560 - accuracy: 0.8537\n",
      "Epoch 98/100\n",
      "175/175 [==============================] - 0s 2ms/step - loss: 2.3687 - accuracy: 0.8464\n",
      "Epoch 99/100\n",
      "175/175 [==============================] - 0s 2ms/step - loss: 2.1307 - accuracy: 0.8619\n",
      "Epoch 100/100\n",
      "175/175 [==============================] - 0s 2ms/step - loss: 2.2208 - accuracy: 0.8560\n"
     ]
    },
    {
     "data": {
      "text/plain": [
       "<tensorflow.python.keras.callbacks.History at 0x15ceaa09790>"
      ]
     },
     "execution_count": 118,
     "metadata": {},
     "output_type": "execute_result"
    }
   ],
   "source": [
    "classifier.fit(x_train,y_train,epochs=100,batch_size=32)"
   ]
  },
  {
   "cell_type": "code",
   "execution_count": 119,
   "metadata": {},
   "outputs": [],
   "source": [
    "y_pred = classifier.predict(x_test)"
   ]
  },
  {
   "cell_type": "code",
   "execution_count": 120,
   "metadata": {},
   "outputs": [
    {
     "data": {
      "text/plain": [
       "array([[-0.13906837],\n",
       "       [-0.47034356],\n",
       "       [-0.22224683],\n",
       "       ...,\n",
       "       [-0.03019888],\n",
       "       [-0.6563892 ],\n",
       "       [-0.21040112]], dtype=float32)"
      ]
     },
     "execution_count": 120,
     "metadata": {},
     "output_type": "execute_result"
    }
   ],
   "source": [
    "y_pred"
   ]
  },
  {
   "cell_type": "code",
   "execution_count": 121,
   "metadata": {
    "scrolled": false
   },
   "outputs": [
    {
     "data": {
      "text/plain": [
       "array([[0],\n",
       "       [0],\n",
       "       [0],\n",
       "       ...,\n",
       "       [0],\n",
       "       [0],\n",
       "       [0]])"
      ]
     },
     "execution_count": 121,
     "metadata": {},
     "output_type": "execute_result"
    }
   ],
   "source": [
    "y_test"
   ]
  },
  {
   "cell_type": "code",
   "execution_count": 122,
   "metadata": {},
   "outputs": [
    {
     "data": {
      "text/plain": [
       "0.86"
      ]
     },
     "execution_count": 122,
     "metadata": {},
     "output_type": "execute_result"
    }
   ],
   "source": [
    "from sklearn.metrics import accuracy_score\n",
    "accuracy_score(y_test,y_pred.astype('int'))"
   ]
  },
  {
   "cell_type": "code",
   "execution_count": 123,
   "metadata": {},
   "outputs": [
    {
     "data": {
      "text/plain": [
       "array([[1204,    0],\n",
       "       [ 196,    0]], dtype=int64)"
      ]
     },
     "execution_count": 123,
     "metadata": {},
     "output_type": "execute_result"
    }
   ],
   "source": [
    "from sklearn.metrics import confusion_matrix\n",
    "confusion_matrix(y_test,y_pred.astype('int'))"
   ]
  },
  {
   "cell_type": "code",
   "execution_count": 124,
   "metadata": {},
   "outputs": [],
   "source": [
    "y_p=classifier.predict(sc.transform([[1., 0., 0.,1., 0., 0., 0., 0.,1,1,145857,0,0,1,0,33]]))"
   ]
  },
  {
   "cell_type": "code",
   "execution_count": 114,
   "metadata": {},
   "outputs": [],
   "source": [
    "#y_p>0.5 which yes, True\n",
    "#y_p<0.5 which no, Flase\n",
    "\n",
    "y_p=y_p>0.5"
   ]
  },
  {
   "cell_type": "code",
   "execution_count": 115,
   "metadata": {},
   "outputs": [
    {
     "data": {
      "text/plain": [
       "array([[False]])"
      ]
     },
     "execution_count": 115,
     "metadata": {},
     "output_type": "execute_result"
    }
   ],
   "source": [
    "y_p"
   ]
  },
  {
   "cell_type": "code",
   "execution_count": null,
   "metadata": {},
   "outputs": [],
   "source": []
  }
 ],
 "metadata": {
  "kernelspec": {
   "display_name": "Python 3",
   "language": "python",
   "name": "python3"
  },
  "language_info": {
   "codemirror_mode": {
    "name": "ipython",
    "version": 3
   },
   "file_extension": ".py",
   "mimetype": "text/x-python",
   "name": "python",
   "nbconvert_exporter": "python",
   "pygments_lexer": "ipython3",
   "version": "3.8.5"
  }
 },
 "nbformat": 4,
 "nbformat_minor": 4
}
